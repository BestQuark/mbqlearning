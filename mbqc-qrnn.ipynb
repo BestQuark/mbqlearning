{
 "cells": [
  {
   "cell_type": "code",
   "execution_count": 19,
   "id": "a1595331",
   "metadata": {},
   "outputs": [],
   "source": [
    "import sys\n",
    "sys.path.append(\"./stable-baselines3-contrib\")\n",
    "\n",
    "import os\n",
    "import gym\n",
    "from gym import spaces\n",
    "\n",
    "import numpy as np\n",
    "import matplotlib.pyplot as plt\n",
    "from scipy import linalg\n",
    "import math\n",
    "from scipy.stats import unitary_group\n",
    "import scipy as scp\n",
    "import networkx as nx\n",
    "#import torch as th\n",
    "\n",
    "#from stable_baselines3 import PPO\n",
    "from stable_baselines3.common.monitor import Monitor\n",
    "from stable_baselines3.common.vec_env.base_vec_env import VecEnv, VecEnvStepReturn, VecEnvWrapper\n",
    "from stable_baselines3.common.callbacks import CheckpointCallback, EveryNTimesteps\n",
    "\n",
    "from stable_baselines3.common import results_plotter\n",
    "from stable_baselines3.common.results_plotter import load_results, ts2xy\n",
    "\n",
    "from sb3_contrib import RecurrentPPO"
   ]
  },
  {
   "cell_type": "code",
   "execution_count": 80,
   "id": "deb1b989",
   "metadata": {},
   "outputs": [],
   "source": [
    "#COMMON GATES\n",
    "H = np.array([[1,1],[1,-1]])/np.sqrt(2)\n",
    "S = np.array([[1,0],[0,1j]])\n",
    "Pi8 = np.array([[1,0],[0,np.exp(1j*np.pi/4)]])\n",
    "sx = np.array([[0,1],[1,0]])\n",
    "sz = np.array([[1,0],[0,-1]])\n",
    "\n",
    "#COMMON QUANTUM STATES\n",
    "q_zero = np.array([[1],[0]])\n",
    "qubit_plus = H@q_zero\n",
    "\n",
    "def moving_average(x, w):\n",
    "    \"\"\"\n",
    "    Smooths data x over a window w\n",
    "    \"\"\"\n",
    "    ps = np.repeat(1.0, w) / w\n",
    "    return np.convolve(x, ps, 'valid')\n",
    "\n",
    "\n",
    "def plot_results(log_folder, title, w=50):\n",
    "    \"\"\"\n",
    "    Plots learning curve using the log of PPO from stable_baselines3\n",
    "    \"\"\"\n",
    "    x, y = ts2xy(load_results(log_folder), 'timesteps')\n",
    "    y = moving_average(y, w)\n",
    "    x = x[len(x) - len(y):]\n",
    "\n",
    "    fig = plt.figure(title)\n",
    "    plt.plot(x, y)\n",
    "    plt.xlabel('Steps')\n",
    "    plt.ylabel('Average Fidelity')\n",
    "    plt.title(title)\n",
    "    plt.show()\n",
    "    \n",
    "def cnot_ij(i,j,n):\n",
    "    \"\"\"\n",
    "    CNOT gate with \n",
    "    i: control qubit\n",
    "    j: target qubit\n",
    "    n: number of qubits\n",
    "    \"\"\"\n",
    "    op1,op2,op3,op4 = np.ones(4)\n",
    "    for k in range(1,n+1):\n",
    "        if k==i or k==j:\n",
    "            op1 = np.kron(op1,np.kron(np.array([[1],[0]]).T, np.array([[1],[0]])))\n",
    "        else:\n",
    "            op1 = np.kron(op1, np.eye(2))        \n",
    "        if k == i:\n",
    "            op2 = np.kron(op2,np.kron(np.array([[1],[0]]).T, np.array([[1],[0]])))\n",
    "            op3 = np.kron(op3,np.kron(np.array([[0],[1]]).T, np.array([[0],[1]])))\n",
    "            op4 = np.kron(op4,np.kron(np.array([[0],[1]]).T, np.array([[0],[1]])))\n",
    "        elif k==j:\n",
    "            op2 = np.kron(op2,np.kron(np.array([[0],[1]]).T, np.array([[0],[1]])))\n",
    "            op3 = np.kron(op3,np.kron(np.array([[1],[0]]).T, np.array([[0],[1]])))\n",
    "            op4 = np.kron(op4,np.kron(np.array([[0],[1]]).T, np.array([[1],[0]])))\n",
    "        else:\n",
    "            op2 = np.kron(op2, np.eye(2))\n",
    "            op3 = np.kron(op3, np.eye(2))\n",
    "            op4 = np.kron(op4, np.eye(2))\n",
    "\n",
    "    return op1+op2+op3+op4\n",
    "\n",
    "class ansatz(gym.Env):\n",
    "    \n",
    "    metadata = {'render.modes': ['human']}\n",
    "    \n",
    "    def __init__(self, n_qubits, width, graph, flow, output_state, indices_reward=None, noise=0, noise_type=\"random\" ,test_fidelity=False, init_state = None, input_state_indxs = [-1], output_state_indxs=[-1], intermediate_reward=False):\n",
    "        \"\"\"\n",
    "        n_qubits: number of qubits that are measured\n",
    "        width: width of cluster state\n",
    "        graph: graph from networkx defining the resource state\n",
    "        flow: it is a function that defines the flow on the graph\n",
    "        output_state: output state we want to achieve \n",
    "        noise: noise strength\n",
    "        noise_type: can be \"random\", \"bitflip\", or \"none\"\n",
    "        test_fidelity: if true, it calculates the fidelity of a circuit with no noise\n",
    "        init_state = if None, initial state is random, if not None, initial state is init_state\n",
    "        input_states_indxs = if its [-1], the input state will be located in first (width)-th nodes and will use an\n",
    "                                extra qubit located in node (width+1). Otherwise, the first (width) elements of the list\n",
    "                                will correspond to the input state and the (width+1) element to the extra ancilla used.\n",
    "        output_states_indxs = if its [-1], the output state will be locateed in the last (width)-th nodes. Otherwise. the\n",
    "                                elements in this list will be the the index of the output state. \n",
    "        intermediate_reward = if True, reward is given every step, if False, reward is given only at the end of the measurment pattern\n",
    "        \"\"\"\n",
    "        self.n_qubits = n_qubits\n",
    "        self.width = width\n",
    "        if indices_reward is None:\n",
    "            self.indices_reward = np.arange(width)\n",
    "        elif indices_reward is not None:\n",
    "            self.indices_reward = indices_reward\n",
    "        \n",
    "        self.graph = graph\n",
    "        self.flow = flow \n",
    "        self.output_state = output_state\n",
    "        \n",
    "        self.noise = noise\n",
    "        self.noise_type = noise_type\n",
    "        self.test_fidelity = test_fidelity\n",
    "        self.init_state = init_state \n",
    "        self.intermediate_reward = intermediate_reward\n",
    "\n",
    "        #define action and observation space that is given to the RL agent\n",
    "        self.action_space = spaces.Box(low = np.array([-1*(np.pi+0.1)]), high=np.array([1*(np.pi+0.1)]) )\n",
    "        self.observation_space = spaces.Box(low=np.array([0,-np.pi-0.1,0]) , high=np.array([50,np.pi+0.1,1]))\n",
    "        \n",
    "        self.total_measurements = self.n_qubits\n",
    "        self.measurements_left = self.n_qubits\n",
    "        \n",
    "        \n",
    "        q_zeros = 1\n",
    "        for i in range(self.width):\n",
    "            q_zeros = np.kron(q_zeros,H@q_zero)\n",
    "        \n",
    "        if self.init_state is None:\n",
    "            st = self.pure2density(unitary_group.rvs(2**self.width)@q_zeros)\n",
    "        elif self.init_state is not None:\n",
    "            st = self.init_state\n",
    "        \n",
    "        #NOISE MODELS\n",
    "        #--------------------------------------------------------------------------------------------\n",
    "#         if self.noise_type==\"random\":\n",
    "#             noisyU = self.randomUnitary_closetoid(2**self.width,self.noise,20)\n",
    "#             self.final_qstate_train = self.pure2density(noisyU@self.unitary@(np.conj(noisyU.T))@st)\n",
    "#         elif self.noise_type==\"bitflip\":\n",
    "#             errs = np.random.choice([0,1],p=[1-self.noise, self.noise])\n",
    "#             if errs==0:\n",
    "#                 self.final_qstate_train = self.pure2density(self.unitary@st)\n",
    "#             elif errs==1:\n",
    "#                 sxs = 1\n",
    "#                 for i in range(self.width):\n",
    "#                     sxs = np.kron(sxs, sx)\n",
    "#                 self.final_qstate_train = self.pure2density(sxs@self.unitary@st)\n",
    "#         elif self.noise_type==\"none\":\n",
    "#             self.final_qstate_train = self.pure2density(self.unitary@st)    \n",
    "#         #--------------------------------------------------------------------------------------------\n",
    "        self.final_qstate_train = self.output_state\n",
    "    \n",
    "        self.final_qstate_test = self.output_state\n",
    "\n",
    "        if input_state_indxs == [-1]:\n",
    "            self.input_state_indices = list(range(self.width+1))\n",
    "        else:\n",
    "            self.input_state_indices = input_state_indxs\n",
    "           \n",
    "        if output_state_indxs ==[-1]:\n",
    "            self.output_state_indices = list(range(n_qubits, n_qubits+width))\n",
    "        else:\n",
    "            self.output_state_indices = output_state_indxs\n",
    "            \n",
    "        assert len(self.input_state_indices)==self.width+1, \"ERROR WITH INPUT STATE INDICES\"\n",
    "\n",
    "        subgr = self.graph.subgraph(self.input_state_indices).copy()\n",
    "        mapping = {nod:idx for idx,nod in enumerate(self.input_state_indices)}\n",
    "        subgr = nx.relabel_nodes(subgr, mapping)\n",
    "\n",
    "        self.current_simulated_nodes = np.array(self.input_state_indices)\n",
    "        self.qstate = self.graph_with_multiple_inputs(subgr, inputstates=st, width=self.width)\n",
    "        \n",
    "        \n",
    "        self.inverse_flow={ }\n",
    "        for i in range(self.n_qubits):\n",
    "            if i not in self.input_state_indices[:-1]:\n",
    "                for j in range(self.n_qubits):\n",
    "                    if self.flow(j)==i:\n",
    "                        self.inverse_flow[i] = j\n",
    "                        break\n",
    "            else:\n",
    "                self.inverse_flow[i] = i-self.flow(i)\n",
    "                \n",
    "        self.measured_angles={}\n",
    "        self.measurement_outcomes={}\n",
    "        for i in self.input_state_indices[:-1]:\n",
    "            self.measured_angles[self.inverse_flow[i]]=0\n",
    "            self.measurement_outcomes[self.inverse_flow[i]]=0\n",
    "        \n",
    "        self.state = np.array([self.inverse_flow[0], self.measured_angles[self.inverse_flow[0]], self.measurement_outcomes[self.inverse_flow[0]]])\n",
    "            \n",
    "    def step(self, action):\n",
    "        \"\"\"\n",
    "        Step function with the convention of the gym library\n",
    "        It measures the current qubit with an angle of (action)\n",
    "        \"\"\"\n",
    "        \n",
    "        current_measurement = np.min(self.current_simulated_nodes)\n",
    "        self.measurements_left -= 1\n",
    "        \n",
    "        qubit_to_measure = np.argmin(self.current_simulated_nodes)\n",
    "        self.qstate, outcome = self.measure_angle(self.qstate, action[0] , qubit_to_measure)\n",
    "\n",
    "        self.measured_angles[current_measurement] = action[0]\n",
    "        self.measurement_outcomes[current_measurement] = outcome\n",
    "                \n",
    "        \n",
    "        if outcome == 1:\n",
    "            fi = self.flow(current_measurement)\n",
    "            assert fi in self.current_simulated_nodes, \"ERROR WITH FLOW\"\n",
    "            modified_qubit  = np.where(np.array(self.current_simulated_nodes)==fi)[0][0]\n",
    "            self.qstate = self.arbitrary_qubit_gate(sx,modified_qubit,self.width+1)@self.qstate@np.conj(self.arbitrary_qubit_gate(sx,modified_qubit,self.width+1).T)\n",
    "            \n",
    "            for ne in self.graph.neighbors(fi):\n",
    "                if ne in self.current_simulated_nodes and ne!=current_measurement:\n",
    "                    modified_qubit2  = np.where(np.array(self.current_simulated_nodes)==ne)[0][0]\n",
    "                    self.qstate = self.arbitrary_qubit_gate(sz,modified_qubit2,self.width+1)@self.qstate@np.conj(self.arbitrary_qubit_gate(sz,modified_qubit2,self.width+1).T)\n",
    "            \n",
    "\n",
    "\n",
    "        self.qstate = self.partial_trace(self.qstate, [qubit_to_measure])\n",
    "        self.current_simulated_nodes = np.delete(self.current_simulated_nodes, np.where(self.current_simulated_nodes==current_measurement))\n",
    "        #np.setdiff1d(self.current_simulated_nodes, current_measurement)\n",
    "        \n",
    "        reward = 0 #fidelity\n",
    "        \n",
    "        \n",
    "        ### INTERMEDIATE STATE FIDELITY\n",
    "        if self.intermediate_reward:\n",
    "            if not self.test_fidelity:\n",
    "                \n",
    "                reward = self.fidelity(self.final_qstate_train, self.sort_state())\n",
    "            elif self.test_fidelity:\n",
    "                reward = self.fidelity(self.final_qstate_test, self.sort_state())\n",
    "\n",
    "        new_qubit_indx = self.flow(np.min(self.current_simulated_nodes))\n",
    "        err_temp = False\n",
    "        if new_qubit_indx in self.current_simulated_nodes:\n",
    "            err_temp = True\n",
    "        elif new_qubit_indx in list(self.graph.nodes()):\n",
    "            self.current_simulated_nodes = np.append(self.current_simulated_nodes, [new_qubit_indx])\n",
    "\n",
    "        if self.measurements_left!=0:\n",
    "            next_measured_qubit=np.min(self.current_simulated_nodes)\n",
    "            self.state = np.array([self.inverse_flow[next_measured_qubit], self.measured_angles[self.inverse_flow[next_measured_qubit]], self.measurement_outcomes[self.inverse_flow[next_measured_qubit]]])\n",
    "            if err_temp:\n",
    "                print(\"ERROR, CHECK FLOW?\")\n",
    "            self.qstate = np.kron(self.qstate, self.pure2density(qubit_plus))\n",
    "            for ne in self.graph.neighbors(new_qubit_indx):\n",
    "                if ne in self.current_simulated_nodes:\n",
    "                    q1 = np.where(self.current_simulated_nodes==ne)[0][0]\n",
    "                    q2 = np.where(self.current_simulated_nodes==new_qubit_indx)[0][0]\n",
    "                    #print(\"q1 and q2:\", q1, q2)\n",
    "                    cgate=self.controlled_z(q1,q2, self.width+1)\n",
    "                    self.qstate = cgate@self.qstate@np.conj(cgate.T)      \n",
    "        \n",
    "        if self.measurements_left == 0:  \n",
    "            \n",
    "            self.qstate = self.sort_state()\n",
    "            if not self.test_fidelity:\n",
    "                reward = self.fidelity(self.final_qstate_train,self.partial_trace(self.qstate,list(np.delete(np.arange(self.width), self.indices_reward ) )))\n",
    "            elif self.test_fidelity:\n",
    "                reward = self.fidelity(self.final_qstate_test, self.partial_trace(self.qstate,list( np.delete(np.arange(self.width), self.indices_reward ) )))\n",
    "            done = True\n",
    "        else:\n",
    "            done = False\n",
    "        \n",
    "        info = {}\n",
    "        \n",
    "        \n",
    "        return self.state, reward, done, info\n",
    "        \n",
    "        \n",
    "    def reset(self):\n",
    "        \"\"\"\n",
    "        Resets MDP.\n",
    "        \"\"\"               \n",
    "        self.measured_angles={}\n",
    "        self.measurement_outcomes={}\n",
    "        for i in self.input_state_indices[:-1]:\n",
    "            self.measured_angles[self.inverse_flow[i]]=0\n",
    "            self.measurement_outcomes[self.inverse_flow[i]]=0\n",
    "        \n",
    "        self.state = np.array([self.inverse_flow[0], self.measured_angles[self.inverse_flow[0]], self.measurement_outcomes[self.inverse_flow[0]]])\n",
    "        self.total_measurements = self.n_qubits\n",
    "        self.measurements_left = self.n_qubits\n",
    "        \n",
    "        q_zeros = 1\n",
    "        for i in range(self.width):\n",
    "            q_zeros = np.kron(q_zeros, H@q_zero)\n",
    "        \n",
    "        if self.init_state is None:\n",
    "            st = self.pure2density(unitary_group.rvs(2**self.width)@q_zeros)\n",
    "        elif self.init_state is not None:\n",
    "            st = self.init_state\n",
    "        \n",
    "#         if self.noise_type==\"random\":\n",
    "#             noisyU = self.randomUnitary_closetoid(2**self.width,self.noise,20)\n",
    "#             self.final_qstate_train = self.pure2density(noisyU@self.unitary@(np.conj(noisyU.T))@st)\n",
    "#         elif self.noise_type==\"bitflip\":\n",
    "#             errs = np.random.choice([0,1],p=[1-self.noise, self.noise])\n",
    "#             if errs==0:\n",
    "#                 self.final_qstate_train = self.pure2density(self.unitary@st)\n",
    "#             elif errs==1:\n",
    "#                 sxs = 1\n",
    "#                 for i in range(self.width):\n",
    "#                     sxs = np.kron(sxs, sx)\n",
    "#                 self.final_qstate_train = self.pure2density(sxs@self.unitary@st)\n",
    "#         elif self.noise_type==\"none\":\n",
    "#             self.final_qstate_train = self.pure2density(self.unitary@st)\n",
    "        \n",
    "        self.final_qstate_train = self.output_state\n",
    "        self.final_qstate_test = self.output_state\n",
    "        \n",
    "\n",
    "        subgr = self.graph.subgraph(self.input_state_indices).copy()\n",
    "        mapping = {nod:idx for idx,nod in enumerate(self.input_state_indices)}\n",
    "        subgr = nx.relabel_nodes(subgr, mapping)\n",
    "\n",
    "        self.current_simulated_nodes = np.array(self.input_state_indices)\n",
    "            \n",
    "        self.qstate = self.graph_with_multiple_inputs(subgr, inputstates=st, width=self.width)\n",
    "        \n",
    "        return self.state\n",
    "        \n",
    "    def render(self, mode='human', close=False):\n",
    "        pass\n",
    "\n",
    "    def measure_angles(self,angles):\n",
    "        \"\"\"\n",
    "        measures angles\n",
    "        \"\"\"\n",
    "        self.reset()  \n",
    "        for a in angles:\n",
    "            state, reward, done, info = self.step([a])\n",
    "        final_qstate = self.partial_trace(np.copy(self.qstate), list(self.indices_reward))\n",
    "        final_state = np.copy(self.state)\n",
    "        \n",
    "        \n",
    "        final_outcomes = [value for key, value in self.measurement_outcomes.items() if key>=0]\n",
    "        \n",
    "        \n",
    "        self.reset()\n",
    "        return final_outcomes, final_qstate, reward\n",
    "    \n",
    "\n",
    "    def update_init_state(self, init_state):\n",
    "        \"\"\"\n",
    "        updates initial state\n",
    "        \"\"\"\n",
    "        self.init_state = init_state\n",
    "        \n",
    "    def update_output_state(self, out_state):\n",
    "        self.output_state = out_state\n",
    "        \n",
    "    def controlled_z(self, i, j , n):\n",
    "        \"\"\"\n",
    "        Controlled z gate between qubits i and j. \n",
    "        n is the total number of qubits\n",
    "        \"\"\"\n",
    "        assert i<n and j<n\n",
    "        op1, op2 = 1, 2\n",
    "        for k in range(0,n):\n",
    "            op1 = np.kron(op1, np.eye(2))\n",
    "            if k in [i,j]:\n",
    "                op2 = np.kron(op2, np.kron(np.conjugate(np.array([[0],[1]]).T), np.array([[0],[1]])))\n",
    "            else:\n",
    "                op2 = np.kron(op2, np.eye(2))\n",
    "        return op1-op2\n",
    "\n",
    "    def fidelity(self, sigma, rho):\n",
    "        \"\"\"\n",
    "        Calculates fidelity between sigma and rho (density matrices)\n",
    "        \"\"\"\n",
    "        srho = linalg.sqrtm(rho)\n",
    "        prod = srho@sigma@srho\n",
    "        sprod = linalg.sqrtm(prod)\n",
    "        return np.abs(np.trace(sprod))\n",
    "\n",
    "    def pure2density(self, psi):\n",
    "        \"\"\"\n",
    "        Input: quantum state\n",
    "        Output: corresponding density matrix\n",
    "        \"\"\"\n",
    "        return np.kron(psi, np.conjugate(psi.T))\n",
    "\n",
    "    def measure_angle(self, rho, angle, i):\n",
    "        \"\"\"\n",
    "        Measures qubit i of state rho with an angle \n",
    "        \"\"\"\n",
    "        n = self.width+1\n",
    "        pi0 = 1\n",
    "        pi1 = 1\n",
    "        pi0op = np.array([[1, np.exp(-angle*1j)],[np.exp(angle*1j), 1]])/2\n",
    "        pi1op = np.array([[1,-np.exp(-angle*1j)],[-np.exp(angle*1j), 1]])/2\n",
    "        for k in range(0,n):\n",
    "            if k == i:\n",
    "                pi0 = np.kron(pi0, pi0op)\n",
    "                pi1 = np.kron(pi1, pi1op)\n",
    "            else:\n",
    "                pi0 = np.kron(pi0, np.eye(2))\n",
    "                pi1 = np.kron(pi1, np.eye(2))\n",
    "        prob0, prob1 = np.real(np.trace(rho@pi0)), np.real(np.trace(rho@pi1))\n",
    "        measurement = np.random.choice([0,1], p=[prob0,prob1]/(prob0+prob1))\n",
    "        \n",
    "        #FORCE OUTCOME TO BE 0\n",
    "        measurement = 0\n",
    "        \n",
    "        if measurement==0:\n",
    "            rho = pi0@rho@pi0/prob0\n",
    "        elif measurement==1:\n",
    "            rho = pi1@rho@pi1/prob1\n",
    "            \n",
    "        return rho, measurement\n",
    "\n",
    "   \n",
    "    def partial_trace(self, rho, indices):\n",
    "        \"\"\"\n",
    "        Partial trace of state rho over some indices \n",
    "        \"\"\"\n",
    "        x,y = rho.shape\n",
    "        n = int(math.log(x,2))\n",
    "        r = len(indices)\n",
    "        sigma = np.zeros((int(x/(2**r)), int(y/(2**r))))\n",
    "        for m in range(0, 2**r):\n",
    "            qubits = format(m,'0'+f'{r}'+'b')\n",
    "            ptrace = 1\n",
    "            for k in range(0,n):\n",
    "                if k in indices:\n",
    "                    idx = indices.index(k)\n",
    "                    if qubits[idx]=='0':\n",
    "                        ptrace = np.kron(ptrace, np.array([[1],[0]]))\n",
    "                    elif qubits[idx]=='1':\n",
    "                        ptrace = np.kron(ptrace, np.array([[0],[1]]))\n",
    "                else:\n",
    "                    ptrace = np.kron(ptrace, np.eye(2))\n",
    "            sigma = sigma + np.conjugate(ptrace.T)@rho@(ptrace)\n",
    "        return sigma\n",
    "\n",
    "\n",
    "    def graph_state(self, G):\n",
    "        \"\"\"\n",
    "        Creates a graph state with graph G\n",
    "        \"\"\"\n",
    "        n = G.number_of_nodes()\n",
    "        psi = 1\n",
    "        for i in range(n):\n",
    "            psi = np.kron(psi, qubit_plus)\n",
    "        for j in list(G.edges()):\n",
    "            psi = self.controlled_z(j[0],j[1], n)@psi\n",
    "        return psi\n",
    "                                    \n",
    "                                    \n",
    "    def graph_with_multiple_inputs(self, G, inputstates=1, width=0):\n",
    "        \"\"\"\n",
    "        Creates a graph state with inputs where G is the graph\n",
    "        \"\"\"\n",
    "        n = G.number_of_nodes()\n",
    "        psi = 1\n",
    "        if self.width==0:\n",
    "            psi = self.pure2density(self.graph_state(G))\n",
    "        else:\n",
    "            psi = np.kron(psi, inputstates)\n",
    "            psi = np.kron(psi, self.pure2density(qubit_plus))\n",
    "\n",
    "        for j in list(G.edges()):\n",
    "            psi = self.controlled_z(j[0],j[1], n)@psi@self.controlled_z(j[0],j[1], n)\n",
    "\n",
    "        return psi \n",
    "                                \n",
    "\n",
    "    def arbitrary_qubit_gate(self,u,i,n):\n",
    "        \"\"\"\n",
    "        Single qubit gate u acting on qubit i\n",
    "        n is the number of qubits\n",
    "        \"\"\"\n",
    "        op = 1\n",
    "        for k in range(n):\n",
    "            if k==i:\n",
    "                op = np.kron(op, u)\n",
    "            else:\n",
    "                op = np.kron(op, np.eye(2))\n",
    "        return op\n",
    "    \n",
    "    def swap_ij(self,i,j,n):\n",
    "        \"\"\"\n",
    "        Swaps qubit i with qubit j\n",
    "        \"\"\"\n",
    "        assert i<n and j<n\n",
    "        op1,op2,op3,op4 = np.ones(4)\n",
    "        for k in range(n):\n",
    "            if k==i or k==j:\n",
    "                op1 = np.kron(op1,np.kron(np.array([[1],[0]]).T, np.array([[1],[0]])))\n",
    "                op4 = np.kron(op4,np.kron(np.array([[0],[1]]).T, np.array([[0],[1]])))\n",
    "            else:\n",
    "                op1 = np.kron(op1, np.eye(2))\n",
    "                op4 = np.kron(op4, np.eye(2))\n",
    "\n",
    "            if k == i:\n",
    "                op2 = np.kron(op2,np.kron(np.array([[1],[0]]).T, np.array([[0],[1]])))\n",
    "                op3 = np.kron(op3,np.kron(np.array([[0],[1]]).T, np.array([[1],[0]])))\n",
    "            elif k==j:\n",
    "                op2 = np.kron(op2,np.kron(np.array([[0],[1]]).T, np.array([[1],[0]])))\n",
    "                op3 = np.kron(op3,np.kron(np.array([[1],[0]]).T, np.array([[0],[1]])))\n",
    "            else:\n",
    "                op2 = np.kron(op2, np.eye(2))\n",
    "                op3 = np.kron(op3, np.eye(2))\n",
    "        return op1+op2+op3+op4\n",
    "    \n",
    "    def brownian_circuit(self,dim, n, dt):\n",
    "        u = np.eye(dim)\n",
    "        for j in range(n):\n",
    "            re = np.random.normal(size=(dim,dim))\n",
    "            im = 1j*np.random.normal(size=(dim,dim))\n",
    "            c = re + im\n",
    "            h = (c+np.conj(c.T))/4\n",
    "            u = u@scp.linalg.expm(1j*h*dt)\n",
    "        return u\n",
    "\n",
    "    def randomUnitary_closetoid(self,dim, t, n):\n",
    "        return self.brownian_circuit(dim,n, np.sqrt(1/(n*dim))*2*np.pi*t)\n",
    "    \n",
    "    \n",
    "    def sort_state(self):\n",
    "        sorted_state = self.qstate.copy()\n",
    "        sorted_nodes = self.current_simulated_nodes.copy()\n",
    "        sorted_nodes.sort()\n",
    "        if (self.current_simulated_nodes==sorted_nodes).all():\n",
    "            pass\n",
    "        else:\n",
    "            sim_nodes = self.current_simulated_nodes.copy()\n",
    "            for n_iteret in range(1,len(sim_nodes)):\n",
    "                ll = np.argmin(sim_nodes[:-n_iteret])\n",
    "                sim_nodes[n_iteret], sim_nodes[ll+n_iteret] =sim_nodes[ll+n_iteret], sim_nodes[n_iteret]  \n",
    "                #print(\"ll+n_iteret-1:\", ll+n_iteret-1, \"\\nn_iteret:\", n_iteret, \"\\nlensimnodes\", len(sim_nodes))\n",
    "                swapgate = self.swap_ij(ll+n_iteret-1,n_iteret,len(sim_nodes))\n",
    "                sorted_state =swapgate@sorted_state@np.conj(swapgate.T)\n",
    "        return sorted_state\n"
   ]
  },
  {
   "cell_type": "code",
   "execution_count": 81,
   "id": "ce837ef2",
   "metadata": {},
   "outputs": [
    {
     "data": {
      "image/png": "[encoded data removed]",
      "text/plain": [
       "<Figure size 432x432 with 1 Axes>"
      ]
     },
     "metadata": {},
     "output_type": "display_data"
    }
   ],
   "source": [
    "#Define graph topology\n",
    "gr = nx.Graph()\n",
    "gr.add_nodes_from(list(range(14)))\n",
    "gr.add_edges_from([(0, 1), (1, 2), (2,3), (3,4),(4,5),\n",
    "                   (6,1),(6,5),(6,10),(10,12),(5,7),(7,8),(8,9),(9,11),(11,13)])\n",
    "\n",
    "#plots graph state\n",
    "fig = plt.figure(1, figsize=(6, 6))\n",
    "xpp = nx.spring_layout(gr)\n",
    "color_map = []\n",
    "for node in gr:\n",
    "    if node in [0,6]:\n",
    "        color_map.append('green')\n",
    "    elif node in [12,13]:\n",
    "        color_map.append('red')\n",
    "    else: \n",
    "        color_map.append('blue')\n",
    "nx.draw(gr,node_color=color_map, with_labels = True,font_color=\"whitesmoke\")\n",
    "plt.axis('off');"
   ]
  },
  {
   "cell_type": "code",
   "execution_count": 82,
   "id": "da2292fc",
   "metadata": {},
   "outputs": [],
   "source": [
    "#Define flow on graph gr\n",
    "def flow_function(i):\n",
    "    output = 0\n",
    "    if i==6:output=10\n",
    "    elif i in [5,9,10,11]: output=i+2\n",
    "    else: output = i+1\n",
    "    return output\n",
    "\n",
    "def pure2density(psi):\n",
    "    \"\"\"\n",
    "    Input: quantum state\n",
    "    Output: corresponding density matrix\n",
    "    \"\"\"\n",
    "    return np.kron(psi, np.conjugate(psi.T))"
   ]
  },
  {
   "cell_type": "code",
   "execution_count": 83,
   "id": "e4bac424",
   "metadata": {},
   "outputs": [],
   "source": [
    "ansatz_state = ansatz(12, 2, gr, flow_function, pure2density(np.kron(qubit_plus,1)), indices_reward=[0], noise=0, noise_type=\"none\" ,init_state=None,test_fidelity=False,  input_state_indxs = [6,0,1])\n"
   ]
  },
  {
   "cell_type": "code",
   "execution_count": 84,
   "id": "8f7782bb",
   "metadata": {
    "scrolled": true
   },
   "outputs": [
    {
     "data": {
      "text/plain": [
       "array([[0.10433705-3.16654797e-17j, 0.11448434-2.23623908e-01j],\n",
       "       [0.11448434+2.23623908e-01j, 0.89566295+3.78386558e-17j]])"
      ]
     },
     "execution_count": 84,
     "metadata": {},
     "output_type": "execute_result"
    }
   ],
   "source": [
    "ansatz_state.measure_angles(np.random.rand(12))[1]"
   ]
  },
  {
   "cell_type": "code",
   "execution_count": 95,
   "id": "91a78e42",
   "metadata": {},
   "outputs": [],
   "source": [
    "#COMMON GATES\n",
    "H = np.array([[1,1],[1,-1]])/np.sqrt(2)\n",
    "S = np.array([[1,0],[0,1j]])\n",
    "Pi8 = np.array([[1,0],[0,np.exp(1j*np.pi/4)]])\n",
    "sx = np.array([[0,1],[1,0]])\n",
    "sz = np.array([[1,0],[0,-1]])\n",
    "\n",
    "#COMMON QUANTUM STATES\n",
    "q_zero = np.array([[1],[0]])\n",
    "qubit_plus = H@q_zero\n",
    "\n",
    "class env_ansatz_qrnn(gym.Env):\n",
    "    \n",
    "    def __init__(self,num_layers, n_qubits, width, graph, flow, training_data_time,g=lambda x: x,indices_reward=[0], noise=0, noise_type=\"random\" ,test_fidelity=False, input_state_indxs = [-1], output_state_indxs=[-1], intermediate_reward=False):\n",
    "        \"\"\"\n",
    "        xxxxx\n",
    "        \"\"\"\n",
    "        self.num_envs=n_qubits\n",
    "        assert len(training_data_time)>=num_layers, \"NOT ENOUGH DATA POINTS\"\n",
    "        self.g = g\n",
    "        self.n_qubits = n_qubits\n",
    "        self.training_data_time = training_data_time\n",
    "        training_data = self.training_states(2*np.pi*np.random.rand()*np.ones(len(training_data_time)), self.training_data_time, g=g) \n",
    "        \n",
    "        self.training_data = training_data\n",
    "        \n",
    "        self.input_state = np.kron(self.pure2density(q_zero), self.training_data[0][0])\n",
    "        self.last_output_state = self.pure2density(q_zero)\n",
    "        self.ansatz_state = ansatz(n_qubits, width, graph, flow, self.training_data[1][0], indices_reward=indices_reward, init_state = self.input_state, noise=noise, noise_type=noise_type ,test_fidelity=test_fidelity, input_state_indxs = input_state_indxs, output_state_indxs=input_state_indxs, intermediate_reward=intermediate_reward)\n",
    "        self.num_layers = num_layers\n",
    "        self.current_layer = 0\n",
    "        \n",
    "        self.action_space = spaces.Box(low = -(np.pi+0.1)*np.ones(n_qubits), high= (np.pi+0.1)*np.ones(n_qubits) )\n",
    "        #self.observation_space = spaces.Box(low=np.concatenate( ([-1],-1*np.ones(n_qubits)) ) , high=np.concatenate( ([50], np.ones(n_qubits)) ))\n",
    "        self.observation_space = spaces.Box(low=np.array([-1]) , high=np.array([50]))\n",
    "        \n",
    "        #self.state = np.zeros(n_qubits+1)\n",
    "        self.state = np.zeros(1)\n",
    "        \n",
    "    def measure_angles(self,angles):\n",
    "        output_state, output_qstate, reward = self.ansatz_state.measure_angles(angles)\n",
    "        return output_state, output_qstate, reward\n",
    "    \n",
    "    def step(self,angles):\n",
    "        info = {}\n",
    "        done = False\n",
    "        reward = 0\n",
    "        self.input_state = np.kron(self.last_output_state, self.training_data[0][self.current_layer])\n",
    "        self.ansatz_state.update_init_state(self.input_state)\n",
    "        self.ansatz_state.update_output_state(self.training_data[1][self.current_layer])\n",
    "        output_outcomes, output_qstate, reward = self.measure_angles(angles)\n",
    "        self.last_output_state = output_qstate\n",
    "        \n",
    "        #self.state = np.array([self.current_layer]+list(output_outcomes))\n",
    "        self.state = np.array([self.current_layer])\n",
    "        \n",
    "        self.current_layer +=1\n",
    "\n",
    "        if self.current_layer==self.num_layers:\n",
    "            done = True\n",
    "        \n",
    "        return self.state, reward/self.num_layers, done, info\n",
    "    \n",
    "    \n",
    "    def reset(self):\n",
    "        training_data_r = self.training_states(2*np.pi*np.random.rand()*np.ones(len(self.training_data_time)), self.training_data_time, g=self.g) \n",
    "        self.training_data = training_data_r\n",
    "        \n",
    "        self.input_state = np.kron(self.pure2density(q_zero), self.training_data[0][0])\n",
    "        self.last_output_state = self.pure2density(q_zero)\n",
    "        self.ansatz_state.reset()\n",
    "        \n",
    "        self.current_layer = 0\n",
    "        #self.state = np.zeros(self.n_qubits+1)\n",
    "        self.state= np.zeros(1)\n",
    "        return self.state\n",
    "        \n",
    "    def render(self, mode='human', close=False):\n",
    "        pass\n",
    "    \n",
    "    def pure2density(self,psi):\n",
    "        \"\"\"\n",
    "        Input: quantum state\n",
    "        Output: corresponding density matrix\n",
    "        \"\"\"\n",
    "        return np.kron(psi, np.conjugate(psi.T))\n",
    "    \n",
    "    \n",
    "    def training_states(self,phis, times, g=lambda x: x):\n",
    "        \"\"\"\n",
    "        creates training data\n",
    "        \"\"\"\n",
    "        predrift = []\n",
    "        postdrift = []\n",
    "\n",
    "        def rotgate(phi):\n",
    "            return np.array([[1,0],[0,np.exp(1j*phi)]])\n",
    "\n",
    "        for ph,t in zip(phis,times):\n",
    "            predrift.append(self.pure2density(rotgate(ph)@qubit_plus))\n",
    "            postdrift.append(self.pure2density(rotgate(ph-g(t))@qubit_plus))\n",
    "        return predrift, postdrift"
   ]
  },
  {
   "cell_type": "markdown",
   "id": "73355695",
   "metadata": {},
   "source": [
    "# Drift Constant Speed (RNN with n+1 entries)"
   ]
  },
  {
   "cell_type": "code",
   "execution_count": 86,
   "id": "d4ff5078",
   "metadata": {},
   "outputs": [],
   "source": [
    "env = env_ansatz_qrnn(4, 12, 2, gr, flow_function, [0,1,2,3],g=lambda x: np.sqrt(x), input_state_indxs = [6,0,1], indices_reward=[0])"
   ]
  },
  {
   "cell_type": "code",
   "execution_count": 87,
   "id": "375f4015",
   "metadata": {},
   "outputs": [],
   "source": [
    "log_dir = \"./logs/logs1\"\n",
    "os.makedirs(log_dir, exist_ok=True)\n",
    "env = Monitor(env, log_dir)\n",
    "checkpoint_on_event = CheckpointCallback(save_freq=1, save_path=log_dir)\n",
    "event_callback = EveryNTimesteps(n_steps=1000, callback=checkpoint_on_event)"
   ]
  },
  {
   "cell_type": "code",
   "execution_count": 88,
   "id": "26aaf396",
   "metadata": {},
   "outputs": [
    {
     "data": {
      "text/plain": [
       "<sb3_contrib.ppo_recurrent.ppo_recurrent.RecurrentPPO at 0x29ab2b21eb0>"
      ]
     },
     "execution_count": 88,
     "metadata": {},
     "output_type": "execute_result"
    }
   ],
   "source": [
    "model = RecurrentPPO(\"MlpLstmPolicy\", env)\n",
    "model.learn(total_timesteps=int(1e5), callback=event_callback)"
   ]
  },
  {
   "cell_type": "code",
   "execution_count": 90,
   "id": "25ef53ad",
   "metadata": {},
   "outputs": [
    {
     "data": {
      "image/png": "[encoded data removed]",
      "text/plain": [
       "<Figure size 432x288 with 1 Axes>"
      ]
     },
     "metadata": {
      "needs_background": "light"
     },
     "output_type": "display_data"
    }
   ],
   "source": [
    "#plot learning curve of the agent\n",
    "plot_results(log_dir, title=\"Drift constant speed\",w=100)"
   ]
  },
  {
   "cell_type": "markdown",
   "id": "e2b70e4e",
   "metadata": {},
   "source": [
    "## RNN with 1 entry"
   ]
  },
  {
   "cell_type": "code",
   "execution_count": 96,
   "id": "e9fdd8d2",
   "metadata": {},
   "outputs": [
    {
     "name": "stderr",
     "output_type": "stream",
     "text": [
      "C:\\Users\\luism\\anaconda3\\envs\\gym\\lib\\site-packages\\gym\\logger.py:34: UserWarning: \u001b[33mWARN: Box bound precision lowered by casting to float32\u001b[0m\n",
      "  warnings.warn(colorize(\"%s: %s\" % (\"WARN\", msg % args), \"yellow\"))\n"
     ]
    }
   ],
   "source": [
    "env = env_ansatz_qrnn(4, 12, 2, gr, flow_function, [0,1,2,3],g=lambda x: np.sqrt(x), input_state_indxs = [6,0,1], indices_reward=[0])"
   ]
  },
  {
   "cell_type": "code",
   "execution_count": 97,
   "id": "3cc1a8ea",
   "metadata": {},
   "outputs": [],
   "source": [
    "log_dir = \"./logs/logs1\"\n",
    "os.makedirs(log_dir, exist_ok=True)\n",
    "env = Monitor(env, log_dir)\n",
    "checkpoint_on_event = CheckpointCallback(save_freq=1, save_path=log_dir)\n",
    "event_callback = EveryNTimesteps(n_steps=1000, callback=checkpoint_on_event)"
   ]
  },
  {
   "cell_type": "code",
   "execution_count": 98,
   "id": "c4126dde",
   "metadata": {},
   "outputs": [
    {
     "data": {
      "text/plain": [
       "<sb3_contrib.ppo_recurrent.ppo_recurrent.RecurrentPPO at 0x29ab6856a30>"
      ]
     },
     "execution_count": 98,
     "metadata": {},
     "output_type": "execute_result"
    }
   ],
   "source": [
    "model = RecurrentPPO(\"MlpLstmPolicy\", env)\n",
    "model.learn(total_timesteps=int(1e5), callback=event_callback)"
   ]
  },
  {
   "cell_type": "code",
   "execution_count": 99,
   "id": "4f13cf63",
   "metadata": {},
   "outputs": [
    {
     "data": {
      "image/png": "[encoded data removed]",
      "text/plain": [
       "<Figure size 432x288 with 1 Axes>"
      ]
     },
     "metadata": {
      "needs_background": "light"
     },
     "output_type": "display_data"
    }
   ],
   "source": [
    "#plot learning curve of the agent\n",
    "plot_results(log_dir, title=\"Drift constant speed\",w=100)"
   ]
  },
  {
   "cell_type": "code",
   "execution_count": null,
   "id": "7799205f",
   "metadata": {},
   "outputs": [],
   "source": []
  },
  {
   "cell_type": "markdown",
   "id": "6ea3b105",
   "metadata": {},
   "source": [
    "# Drift Varying Speed (RNN with n+1 entries)"
   ]
  },
  {
   "cell_type": "code",
   "execution_count": 91,
   "id": "c608573f",
   "metadata": {},
   "outputs": [
    {
     "name": "stderr",
     "output_type": "stream",
     "text": [
      "C:\\Users\\luism\\anaconda3\\envs\\gym\\lib\\site-packages\\gym\\logger.py:34: UserWarning: \u001b[33mWARN: Box bound precision lowered by casting to float32\u001b[0m\n",
      "  warnings.warn(colorize(\"%s: %s\" % (\"WARN\", msg % args), \"yellow\"))\n"
     ]
    }
   ],
   "source": [
    "vk = [3,5,7,8]\n",
    "env = env_ansatz_qrnn(4, 12, 2, gr, flow_function, [0,1,2,3],g=lambda x: np.sqrt(x)*vk[x], input_state_indxs = [6,0,1], indices_reward=[0])"
   ]
  },
  {
   "cell_type": "code",
   "execution_count": 92,
   "id": "fecd661c",
   "metadata": {},
   "outputs": [],
   "source": [
    "log_dir = \"./logs/logs2\"\n",
    "os.makedirs(log_dir, exist_ok=True)\n",
    "env = Monitor(env, log_dir)\n",
    "checkpoint_on_event = CheckpointCallback(save_freq=1, save_path=log_dir)\n",
    "event_callback = EveryNTimesteps(n_steps=1000, callback=checkpoint_on_event)"
   ]
  },
  {
   "cell_type": "code",
   "execution_count": 93,
   "id": "b95ee9f6",
   "metadata": {},
   "outputs": [
    {
     "data": {
      "text/plain": [
       "<sb3_contrib.ppo_recurrent.ppo_recurrent.RecurrentPPO at 0x29ab6205940>"
      ]
     },
     "execution_count": 93,
     "metadata": {},
     "output_type": "execute_result"
    }
   ],
   "source": [
    "model = RecurrentPPO(\"MlpLstmPolicy\", env)\n",
    "model.learn(total_timesteps=int(1e5), callback=event_callback)"
   ]
  },
  {
   "cell_type": "code",
   "execution_count": 94,
   "id": "b0701e2d",
   "metadata": {},
   "outputs": [
    {
     "data": {
      "image/png": "[encoded data removed]",
      "text/plain": [
       "<Figure size 432x288 with 1 Axes>"
      ]
     },
     "metadata": {
      "needs_background": "light"
     },
     "output_type": "display_data"
    }
   ],
   "source": [
    "#plot learning curve of the agent\n",
    "plot_results(log_dir, title=\"Drift Varying Speed\",w=100)"
   ]
  },
  {
   "cell_type": "markdown",
   "id": "675e8313",
   "metadata": {},
   "source": [
    "## RNN with 1 entry"
   ]
  },
  {
   "cell_type": "code",
   "execution_count": 100,
   "id": "fbb0a060",
   "metadata": {},
   "outputs": [
    {
     "name": "stderr",
     "output_type": "stream",
     "text": [
      "C:\\Users\\luism\\anaconda3\\envs\\gym\\lib\\site-packages\\gym\\logger.py:34: UserWarning: \u001b[33mWARN: Box bound precision lowered by casting to float32\u001b[0m\n",
      "  warnings.warn(colorize(\"%s: %s\" % (\"WARN\", msg % args), \"yellow\"))\n"
     ]
    }
   ],
   "source": [
    "vk = [3,5,7,8]\n",
    "env = env_ansatz_qrnn(4, 12, 2, gr, flow_function, [0,1,2,3],g=lambda x: np.sqrt(x)*vk[x], input_state_indxs = [6,0,1], indices_reward=[0])"
   ]
  },
  {
   "cell_type": "code",
   "execution_count": 101,
   "id": "35c188c6",
   "metadata": {},
   "outputs": [],
   "source": [
    "log_dir = \"./logs/logs2\"\n",
    "os.makedirs(log_dir, exist_ok=True)\n",
    "env = Monitor(env, log_dir)\n",
    "checkpoint_on_event = CheckpointCallback(save_freq=1, save_path=log_dir)\n",
    "event_callback = EveryNTimesteps(n_steps=1000, callback=checkpoint_on_event)"
   ]
  },
  {
   "cell_type": "code",
   "execution_count": 102,
   "id": "88039985",
   "metadata": {},
   "outputs": [
    {
     "data": {
      "text/plain": [
       "<sb3_contrib.ppo_recurrent.ppo_recurrent.RecurrentPPO at 0x29ab6fe04c0>"
      ]
     },
     "execution_count": 102,
     "metadata": {},
     "output_type": "execute_result"
    }
   ],
   "source": [
    "model = RecurrentPPO(\"MlpLstmPolicy\", env)\n",
    "model.learn(total_timesteps=int(1e5), callback=event_callback)"
   ]
  },
  {
   "cell_type": "code",
   "execution_count": 103,
   "id": "7b584da9",
   "metadata": {},
   "outputs": [
    {
     "data": {
      "image/png": "[encoded data removed]",
      "text/plain": [
       "<Figure size 432x288 with 1 Axes>"
      ]
     },
     "metadata": {
      "needs_background": "light"
     },
     "output_type": "display_data"
    }
   ],
   "source": [
    "#plot learning curve of the agent\n",
    "plot_results(log_dir, title=\"Drift Varying Speed\",w=100)"
   ]
  },
  {
   "cell_type": "markdown",
   "id": "548ef638",
   "metadata": {},
   "source": [
    "# Delay Channel"
   ]
  },
  {
   "cell_type": "code",
   "execution_count": null,
   "id": "30742059",
   "metadata": {},
   "outputs": [],
   "source": []
  },
  {
   "cell_type": "code",
   "execution_count": null,
   "id": "b75e0348",
   "metadata": {},
   "outputs": [],
   "source": []
  },
  {
   "cell_type": "code",
   "execution_count": null,
   "id": "eccd9500",
   "metadata": {},
   "outputs": [],
   "source": []
  },
  {
   "cell_type": "markdown",
   "id": "7fb419e5",
   "metadata": {},
   "source": [
    "# Input Averaging"
   ]
  },
  {
   "cell_type": "code",
   "execution_count": null,
   "id": "3fdce632",
   "metadata": {},
   "outputs": [],
   "source": []
  },
  {
   "cell_type": "code",
   "execution_count": null,
   "id": "f298fb2f",
   "metadata": {},
   "outputs": [],
   "source": []
  },
  {
   "cell_type": "code",
   "execution_count": null,
   "id": "93a5a92e",
   "metadata": {},
   "outputs": [],
   "source": []
  },
  {
   "cell_type": "code",
   "execution_count": null,
   "id": "43c93f9d",
   "metadata": {},
   "outputs": [],
   "source": []
  },
  {
   "cell_type": "markdown",
   "id": "abe4acfe",
   "metadata": {},
   "source": [
    "# All together! : Filter with band window "
   ]
  },
  {
   "cell_type": "code",
   "execution_count": null,
   "id": "c69e6751",
   "metadata": {},
   "outputs": [],
   "source": []
  },
  {
   "cell_type": "code",
   "execution_count": null,
   "id": "37ff28d4",
   "metadata": {},
   "outputs": [],
   "source": []
  },
  {
   "cell_type": "markdown",
   "id": "17213f0f",
   "metadata": {},
   "source": [
    "# NORMAL SUPERVISED LEARNING"
   ]
  },
  {
   "cell_type": "code",
   "execution_count": null,
   "id": "f9065560",
   "metadata": {},
   "outputs": [],
   "source": []
  }
 ],
 "metadata": {
  "kernelspec": {
   "display_name": "Python 3",
   "language": "python",
   "name": "python3"
  },
  "language_info": {
   "codemirror_mode": {
    "name": "ipython",
    "version": 3
   },
   "file_extension": ".py",
   "mimetype": "text/x-python",
   "name": "python",
   "nbconvert_exporter": "python",
   "pygments_lexer": "ipython3",
   "version": "3.8.8"
  }
 },
 "nbformat": 4,
 "nbformat_minor": 5
}
