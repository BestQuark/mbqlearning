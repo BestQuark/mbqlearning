{
 "cells": [
  {
   "cell_type": "markdown",
   "id": "b18c8b07",
   "metadata": {},
   "source": [
    "# <p style=\"text-align: center;\"> RL-enhanced MBQC </p>\n"
   ]
  },
  {
   "cell_type": "markdown",
   "id": "29a79e6f",
   "metadata": {},
   "source": [
    "We want to use a RL agent to find a measurement pattern in some cluster/graph state that implements some unknown gate $U$\n",
    "<img src=\"./assets/images/interactionDrawing.png\" width=\"500\">\n"
   ]
  },
  {
   "cell_type": "markdown",
   "id": "274c2786",
   "metadata": {},
   "source": [
    "Let us import some important libraries"
   ]
  },
  {
   "cell_type": "code",
   "execution_count": 1,
   "id": "f26b060e",
   "metadata": {},
   "outputs": [
    {
     "name": "stderr",
     "output_type": "stream",
     "text": [
      "C:\\Users\\luism\\anaconda3\\envs\\gym\\lib\\site-packages\\ale_py\\roms\\__init__.py:84: DeprecationWarning: Automatic importing of atari-py roms won't be supported in future releases of ale-py. Please migrate over to using `ale-import-roms` OR an ALE-supported ROM package. To make this warning disappear you can run `ale-import-roms --import-from-pkg atari_py.atari_roms`.For more information see: https://github.com/mgbellemare/Arcade-Learning-Environment#rom-management\n",
      "  __all__ = _resolve_roms()\n"
     ]
    }
   ],
   "source": [
    "import os\n",
    "import gym\n",
    "from gym import spaces\n",
    "\n",
    "import numpy as np\n",
    "import matplotlib.pyplot as plt\n",
    "from scipy import linalg\n",
    "import math\n",
    "from scipy.stats import unitary_group\n",
    "import scipy as scp\n",
    "import networkx as nx\n",
    "\n",
    "from stable_baselines3 import PPO\n",
    "from stable_baselines3.common.monitor import Monitor\n",
    "from stable_baselines3.common.callbacks import CheckpointCallback, EveryNTimesteps\n",
    "\n",
    "from stable_baselines3.common import results_plotter\n",
    "from stable_baselines3.common.results_plotter import load_results, ts2xy"
   ]
  },
  {
   "cell_type": "markdown",
   "id": "e3ea1e11",
   "metadata": {},
   "source": [
    "Import the mbqc_env"
   ]
  },
  {
   "cell_type": "code",
   "execution_count": 149,
   "id": "4038b78a",
   "metadata": {},
   "outputs": [],
   "source": [
    "from env_mbqc import *"
   ]
  },
  {
   "cell_type": "markdown",
   "id": "cd13cc77",
   "metadata": {},
   "source": [
    "# Training agents!"
   ]
  },
  {
   "cell_type": "markdown",
   "id": "933612a6",
   "metadata": {},
   "source": [
    "### One qubit gates:"
   ]
  },
  {
   "cell_type": "markdown",
   "id": "66e3e659",
   "metadata": {},
   "source": [
    "We define a resource state that is capable of implementing the unitary gate, in this case, we will use a 1D five-qubits chain."
   ]
  },
  {
   "cell_type": "code",
   "execution_count": 150,
   "id": "e69d2fa8",
   "metadata": {},
   "outputs": [],
   "source": [
    "#define our graph\n",
    "gr = nx.Graph()\n",
    "gr.add_nodes_from(list(range(5)))\n",
    "gr.add_edges_from([(0, 1),(1,2),(2,3),(3,4)])\n",
    "\n",
    "#pick a one-qubit unitary gate to learn\n",
    "unitary_random = unitary_group.rvs(2)"
   ]
  },
  {
   "cell_type": "code",
   "execution_count": 151,
   "id": "8c3582a0",
   "metadata": {},
   "outputs": [
    {
     "data": {
      "image/png": "[encoded data removed]",
      "text/plain": [
       "<Figure size 288x288 with 1 Axes>"
      ]
     },
     "metadata": {},
     "output_type": "display_data"
    }
   ],
   "source": [
    "#plots graph state\n",
    "fig = plt.figure(1, figsize=(4, 4))\n",
    "xpp = nx.spring_layout(gr)\n",
    "nx.draw(gr)\n",
    "plt.axis('off');"
   ]
  },
  {
   "cell_type": "code",
   "execution_count": 162,
   "id": "ae37457b",
   "metadata": {},
   "outputs": [],
   "source": [
    "#create environment and path for log file\n",
    "env = mbqc_env(4, 1, gr, lambda x: x+1, unitary_random, noise=0, noise_type=\"none\" ,test_fidelity=False, init_state_random = True)\n",
    "log_dir = \"./logs/\"\n",
    "os.makedirs(log_dir, exist_ok=True)\n",
    "env = Monitor(env, log_dir)\n",
    "checkpoint_on_event = CheckpointCallback(save_freq=1, save_path='./logs/')\n",
    "event_callback = EveryNTimesteps(n_steps=1000, callback=checkpoint_on_event)"
   ]
  },
  {
   "cell_type": "code",
   "execution_count": 174,
   "id": "16a2bcd3",
   "metadata": {},
   "outputs": [
    {
     "data": {
      "text/plain": [
       "array([1])"
      ]
     },
     "execution_count": 174,
     "metadata": {},
     "output_type": "execute_result"
    }
   ],
   "source": [
    "from env_mbqc import *\n",
    "#create environment and path for log file\n",
    "env = mbqc_env(4, 1, gr, lambda x: x+1, unitary_random, noise=0, noise_type=\"none\" ,test_fidelity=False, init_state_random = True)\n",
    "\n",
    "obs = env.reset()\n",
    "done = False\n",
    "# while not done:\n",
    "#     #action, states = model.predict(obs, deterministic=True)\n",
    "#     obs, reward, done, info = env.step([0])\n",
    "#     print(action)\n",
    "#     if done:\n",
    "#         print(\"donee, score: \", reward)\n",
    "\n",
    "env.current_simulated_nodes\n"
   ]
  },
  {
   "cell_type": "code",
   "execution_count": 102,
   "id": "c42985c7",
   "metadata": {
    "scrolled": true
   },
   "outputs": [
    {
     "ename": "IndexError",
     "evalue": "index 0 is out of bounds for axis 0 with size 0",
     "output_type": "error",
     "traceback": [
      "\u001b[1;31m---------------------------------------------------------------------------\u001b[0m",
      "\u001b[1;31mIndexError\u001b[0m                                Traceback (most recent call last)",
      "\u001b[1;32m<ipython-input-102-dff3951cba9d>\u001b[0m in \u001b[0;36m<module>\u001b[1;34m\u001b[0m\n\u001b[0;32m      1\u001b[0m \u001b[1;31m#define and train the model\u001b[0m\u001b[1;33m\u001b[0m\u001b[1;33m\u001b[0m\u001b[1;33m\u001b[0m\u001b[0m\n\u001b[0;32m      2\u001b[0m \u001b[0mmodel\u001b[0m \u001b[1;33m=\u001b[0m \u001b[0mPPO\u001b[0m\u001b[1;33m(\u001b[0m\u001b[1;34m\"MlpPolicy\"\u001b[0m\u001b[1;33m,\u001b[0m \u001b[0menv\u001b[0m\u001b[1;33m,\u001b[0m \u001b[0mverbose\u001b[0m\u001b[1;33m=\u001b[0m\u001b[1;36m0\u001b[0m\u001b[1;33m)\u001b[0m\u001b[1;33m;\u001b[0m\u001b[1;33m\u001b[0m\u001b[1;33m\u001b[0m\u001b[0m\n\u001b[1;32m----> 3\u001b[1;33m \u001b[0mmodel\u001b[0m\u001b[1;33m.\u001b[0m\u001b[0mlearn\u001b[0m\u001b[1;33m(\u001b[0m\u001b[0mtotal_timesteps\u001b[0m\u001b[1;33m=\u001b[0m\u001b[0mint\u001b[0m\u001b[1;33m(\u001b[0m\u001b[1;36m1e5\u001b[0m\u001b[1;33m)\u001b[0m\u001b[1;33m,\u001b[0m \u001b[0mcallback\u001b[0m\u001b[1;33m=\u001b[0m\u001b[0mevent_callback\u001b[0m\u001b[1;33m)\u001b[0m\u001b[1;33m\u001b[0m\u001b[1;33m\u001b[0m\u001b[0m\n\u001b[0m",
      "\u001b[1;32m~\\anaconda3\\envs\\gym\\lib\\site-packages\\stable_baselines3\\ppo\\ppo.py\u001b[0m in \u001b[0;36mlearn\u001b[1;34m(self, total_timesteps, callback, log_interval, eval_env, eval_freq, n_eval_episodes, tb_log_name, eval_log_path, reset_num_timesteps)\u001b[0m\n\u001b[0;32m    299\u001b[0m     ) -> \"PPO\":\n\u001b[0;32m    300\u001b[0m \u001b[1;33m\u001b[0m\u001b[0m\n\u001b[1;32m--> 301\u001b[1;33m         return super(PPO, self).learn(\n\u001b[0m\u001b[0;32m    302\u001b[0m             \u001b[0mtotal_timesteps\u001b[0m\u001b[1;33m=\u001b[0m\u001b[0mtotal_timesteps\u001b[0m\u001b[1;33m,\u001b[0m\u001b[1;33m\u001b[0m\u001b[1;33m\u001b[0m\u001b[0m\n\u001b[0;32m    303\u001b[0m             \u001b[0mcallback\u001b[0m\u001b[1;33m=\u001b[0m\u001b[0mcallback\u001b[0m\u001b[1;33m,\u001b[0m\u001b[1;33m\u001b[0m\u001b[1;33m\u001b[0m\u001b[0m\n",
      "\u001b[1;32m~\\anaconda3\\envs\\gym\\lib\\site-packages\\stable_baselines3\\common\\on_policy_algorithm.py\u001b[0m in \u001b[0;36mlearn\u001b[1;34m(self, total_timesteps, callback, log_interval, eval_env, eval_freq, n_eval_episodes, tb_log_name, eval_log_path, reset_num_timesteps)\u001b[0m\n\u001b[0;32m    235\u001b[0m         \u001b[1;32mwhile\u001b[0m \u001b[0mself\u001b[0m\u001b[1;33m.\u001b[0m\u001b[0mnum_timesteps\u001b[0m \u001b[1;33m<\u001b[0m \u001b[0mtotal_timesteps\u001b[0m\u001b[1;33m:\u001b[0m\u001b[1;33m\u001b[0m\u001b[1;33m\u001b[0m\u001b[0m\n\u001b[0;32m    236\u001b[0m \u001b[1;33m\u001b[0m\u001b[0m\n\u001b[1;32m--> 237\u001b[1;33m             \u001b[0mcontinue_training\u001b[0m \u001b[1;33m=\u001b[0m \u001b[0mself\u001b[0m\u001b[1;33m.\u001b[0m\u001b[0mcollect_rollouts\u001b[0m\u001b[1;33m(\u001b[0m\u001b[0mself\u001b[0m\u001b[1;33m.\u001b[0m\u001b[0menv\u001b[0m\u001b[1;33m,\u001b[0m \u001b[0mcallback\u001b[0m\u001b[1;33m,\u001b[0m \u001b[0mself\u001b[0m\u001b[1;33m.\u001b[0m\u001b[0mrollout_buffer\u001b[0m\u001b[1;33m,\u001b[0m \u001b[0mn_rollout_steps\u001b[0m\u001b[1;33m=\u001b[0m\u001b[0mself\u001b[0m\u001b[1;33m.\u001b[0m\u001b[0mn_steps\u001b[0m\u001b[1;33m)\u001b[0m\u001b[1;33m\u001b[0m\u001b[1;33m\u001b[0m\u001b[0m\n\u001b[0m\u001b[0;32m    238\u001b[0m \u001b[1;33m\u001b[0m\u001b[0m\n\u001b[0;32m    239\u001b[0m             \u001b[1;32mif\u001b[0m \u001b[0mcontinue_training\u001b[0m \u001b[1;32mis\u001b[0m \u001b[1;32mFalse\u001b[0m\u001b[1;33m:\u001b[0m\u001b[1;33m\u001b[0m\u001b[1;33m\u001b[0m\u001b[0m\n",
      "\u001b[1;32m~\\anaconda3\\envs\\gym\\lib\\site-packages\\stable_baselines3\\common\\on_policy_algorithm.py\u001b[0m in \u001b[0;36mcollect_rollouts\u001b[1;34m(self, env, callback, rollout_buffer, n_rollout_steps)\u001b[0m\n\u001b[0;32m    176\u001b[0m                 \u001b[0mclipped_actions\u001b[0m \u001b[1;33m=\u001b[0m \u001b[0mnp\u001b[0m\u001b[1;33m.\u001b[0m\u001b[0mclip\u001b[0m\u001b[1;33m(\u001b[0m\u001b[0mactions\u001b[0m\u001b[1;33m,\u001b[0m \u001b[0mself\u001b[0m\u001b[1;33m.\u001b[0m\u001b[0maction_space\u001b[0m\u001b[1;33m.\u001b[0m\u001b[0mlow\u001b[0m\u001b[1;33m,\u001b[0m \u001b[0mself\u001b[0m\u001b[1;33m.\u001b[0m\u001b[0maction_space\u001b[0m\u001b[1;33m.\u001b[0m\u001b[0mhigh\u001b[0m\u001b[1;33m)\u001b[0m\u001b[1;33m\u001b[0m\u001b[1;33m\u001b[0m\u001b[0m\n\u001b[0;32m    177\u001b[0m \u001b[1;33m\u001b[0m\u001b[0m\n\u001b[1;32m--> 178\u001b[1;33m             \u001b[0mnew_obs\u001b[0m\u001b[1;33m,\u001b[0m \u001b[0mrewards\u001b[0m\u001b[1;33m,\u001b[0m \u001b[0mdones\u001b[0m\u001b[1;33m,\u001b[0m \u001b[0minfos\u001b[0m \u001b[1;33m=\u001b[0m \u001b[0menv\u001b[0m\u001b[1;33m.\u001b[0m\u001b[0mstep\u001b[0m\u001b[1;33m(\u001b[0m\u001b[0mclipped_actions\u001b[0m\u001b[1;33m)\u001b[0m\u001b[1;33m\u001b[0m\u001b[1;33m\u001b[0m\u001b[0m\n\u001b[0m\u001b[0;32m    179\u001b[0m \u001b[1;33m\u001b[0m\u001b[0m\n\u001b[0;32m    180\u001b[0m             \u001b[0mself\u001b[0m\u001b[1;33m.\u001b[0m\u001b[0mnum_timesteps\u001b[0m \u001b[1;33m+=\u001b[0m \u001b[0menv\u001b[0m\u001b[1;33m.\u001b[0m\u001b[0mnum_envs\u001b[0m\u001b[1;33m\u001b[0m\u001b[1;33m\u001b[0m\u001b[0m\n",
      "\u001b[1;32m~\\anaconda3\\envs\\gym\\lib\\site-packages\\stable_baselines3\\common\\vec_env\\base_vec_env.py\u001b[0m in \u001b[0;36mstep\u001b[1;34m(self, actions)\u001b[0m\n\u001b[0;32m    160\u001b[0m         \"\"\"\n\u001b[0;32m    161\u001b[0m         \u001b[0mself\u001b[0m\u001b[1;33m.\u001b[0m\u001b[0mstep_async\u001b[0m\u001b[1;33m(\u001b[0m\u001b[0mactions\u001b[0m\u001b[1;33m)\u001b[0m\u001b[1;33m\u001b[0m\u001b[1;33m\u001b[0m\u001b[0m\n\u001b[1;32m--> 162\u001b[1;33m         \u001b[1;32mreturn\u001b[0m \u001b[0mself\u001b[0m\u001b[1;33m.\u001b[0m\u001b[0mstep_wait\u001b[0m\u001b[1;33m(\u001b[0m\u001b[1;33m)\u001b[0m\u001b[1;33m\u001b[0m\u001b[1;33m\u001b[0m\u001b[0m\n\u001b[0m\u001b[0;32m    163\u001b[0m \u001b[1;33m\u001b[0m\u001b[0m\n\u001b[0;32m    164\u001b[0m     \u001b[1;32mdef\u001b[0m \u001b[0mget_images\u001b[0m\u001b[1;33m(\u001b[0m\u001b[0mself\u001b[0m\u001b[1;33m)\u001b[0m \u001b[1;33m->\u001b[0m \u001b[0mSequence\u001b[0m\u001b[1;33m[\u001b[0m\u001b[0mnp\u001b[0m\u001b[1;33m.\u001b[0m\u001b[0mndarray\u001b[0m\u001b[1;33m]\u001b[0m\u001b[1;33m:\u001b[0m\u001b[1;33m\u001b[0m\u001b[1;33m\u001b[0m\u001b[0m\n",
      "\u001b[1;32m~\\anaconda3\\envs\\gym\\lib\\site-packages\\stable_baselines3\\common\\vec_env\\dummy_vec_env.py\u001b[0m in \u001b[0;36mstep_wait\u001b[1;34m(self)\u001b[0m\n\u001b[0;32m     41\u001b[0m     \u001b[1;32mdef\u001b[0m \u001b[0mstep_wait\u001b[0m\u001b[1;33m(\u001b[0m\u001b[0mself\u001b[0m\u001b[1;33m)\u001b[0m \u001b[1;33m->\u001b[0m \u001b[0mVecEnvStepReturn\u001b[0m\u001b[1;33m:\u001b[0m\u001b[1;33m\u001b[0m\u001b[1;33m\u001b[0m\u001b[0m\n\u001b[0;32m     42\u001b[0m         \u001b[1;32mfor\u001b[0m \u001b[0menv_idx\u001b[0m \u001b[1;32min\u001b[0m \u001b[0mrange\u001b[0m\u001b[1;33m(\u001b[0m\u001b[0mself\u001b[0m\u001b[1;33m.\u001b[0m\u001b[0mnum_envs\u001b[0m\u001b[1;33m)\u001b[0m\u001b[1;33m:\u001b[0m\u001b[1;33m\u001b[0m\u001b[1;33m\u001b[0m\u001b[0m\n\u001b[1;32m---> 43\u001b[1;33m             obs, self.buf_rews[env_idx], self.buf_dones[env_idx], self.buf_infos[env_idx] = self.envs[env_idx].step(\n\u001b[0m\u001b[0;32m     44\u001b[0m                 \u001b[0mself\u001b[0m\u001b[1;33m.\u001b[0m\u001b[0mactions\u001b[0m\u001b[1;33m[\u001b[0m\u001b[0menv_idx\u001b[0m\u001b[1;33m]\u001b[0m\u001b[1;33m\u001b[0m\u001b[1;33m\u001b[0m\u001b[0m\n\u001b[0;32m     45\u001b[0m             )\n",
      "\u001b[1;32m~\\anaconda3\\envs\\gym\\lib\\site-packages\\stable_baselines3\\common\\monitor.py\u001b[0m in \u001b[0;36mstep\u001b[1;34m(self, action)\u001b[0m\n\u001b[0;32m     88\u001b[0m         \u001b[1;32mif\u001b[0m \u001b[0mself\u001b[0m\u001b[1;33m.\u001b[0m\u001b[0mneeds_reset\u001b[0m\u001b[1;33m:\u001b[0m\u001b[1;33m\u001b[0m\u001b[1;33m\u001b[0m\u001b[0m\n\u001b[0;32m     89\u001b[0m             \u001b[1;32mraise\u001b[0m \u001b[0mRuntimeError\u001b[0m\u001b[1;33m(\u001b[0m\u001b[1;34m\"Tried to step environment that needs reset\"\u001b[0m\u001b[1;33m)\u001b[0m\u001b[1;33m\u001b[0m\u001b[1;33m\u001b[0m\u001b[0m\n\u001b[1;32m---> 90\u001b[1;33m         \u001b[0mobservation\u001b[0m\u001b[1;33m,\u001b[0m \u001b[0mreward\u001b[0m\u001b[1;33m,\u001b[0m \u001b[0mdone\u001b[0m\u001b[1;33m,\u001b[0m \u001b[0minfo\u001b[0m \u001b[1;33m=\u001b[0m \u001b[0mself\u001b[0m\u001b[1;33m.\u001b[0m\u001b[0menv\u001b[0m\u001b[1;33m.\u001b[0m\u001b[0mstep\u001b[0m\u001b[1;33m(\u001b[0m\u001b[0maction\u001b[0m\u001b[1;33m)\u001b[0m\u001b[1;33m\u001b[0m\u001b[1;33m\u001b[0m\u001b[0m\n\u001b[0m\u001b[0;32m     91\u001b[0m         \u001b[0mself\u001b[0m\u001b[1;33m.\u001b[0m\u001b[0mrewards\u001b[0m\u001b[1;33m.\u001b[0m\u001b[0mappend\u001b[0m\u001b[1;33m(\u001b[0m\u001b[0mreward\u001b[0m\u001b[1;33m)\u001b[0m\u001b[1;33m\u001b[0m\u001b[1;33m\u001b[0m\u001b[0m\n\u001b[0;32m     92\u001b[0m         \u001b[1;32mif\u001b[0m \u001b[0mdone\u001b[0m\u001b[1;33m:\u001b[0m\u001b[1;33m\u001b[0m\u001b[1;33m\u001b[0m\u001b[0m\n",
      "\u001b[1;32m~\\OneDrive - UBC\\2021 Fall\\QI Group\\MBQC-RL\\mbqlearning\\env_mbqc.py\u001b[0m in \u001b[0;36mstep\u001b[1;34m(self, action)\u001b[0m\n\u001b[0;32m    173\u001b[0m \u001b[1;33m\u001b[0m\u001b[0m\n\u001b[0;32m    174\u001b[0m \u001b[1;33m\u001b[0m\u001b[0m\n\u001b[1;32m--> 175\u001b[1;33m         \u001b[1;32mif\u001b[0m \u001b[0moutcome\u001b[0m \u001b[1;33m==\u001b[0m \u001b[1;36m1\u001b[0m\u001b[1;33m:\u001b[0m\u001b[1;33m\u001b[0m\u001b[1;33m\u001b[0m\u001b[0m\n\u001b[0m\u001b[0;32m    176\u001b[0m             \u001b[0mfi\u001b[0m \u001b[1;33m=\u001b[0m \u001b[0mself\u001b[0m\u001b[1;33m.\u001b[0m\u001b[0mflow\u001b[0m\u001b[1;33m(\u001b[0m\u001b[0mcurrent_measurement\u001b[0m\u001b[1;33m)\u001b[0m\u001b[1;33m\u001b[0m\u001b[1;33m\u001b[0m\u001b[0m\n\u001b[0;32m    177\u001b[0m             \u001b[0mprint\u001b[0m\u001b[1;33m(\u001b[0m\u001b[1;34m\"flow qbit: \"\u001b[0m\u001b[1;33m,\u001b[0m \u001b[0mfi\u001b[0m\u001b[1;33m,\u001b[0m \u001b[1;34m\" current qbit: \"\u001b[0m\u001b[1;33m,\u001b[0m \u001b[0mcurrent_measurement\u001b[0m\u001b[1;33m)\u001b[0m\u001b[1;33m\u001b[0m\u001b[1;33m\u001b[0m\u001b[0m\n",
      "\u001b[1;31mIndexError\u001b[0m: index 0 is out of bounds for axis 0 with size 0"
     ]
    }
   ],
   "source": [
    "#define and train the model\n",
    "model = PPO(\"MlpPolicy\", env, verbose=0);\n",
    "model.learn(total_timesteps=int(1e5), callback=event_callback)"
   ]
  },
  {
   "cell_type": "code",
   "execution_count": 50,
   "id": "8e3375e7",
   "metadata": {},
   "outputs": [
    {
     "data": {
      "image/png": "[encoded data removed]",
      "text/plain": [
       "<Figure size 432x288 with 1 Axes>"
      ]
     },
     "metadata": {
      "needs_background": "light"
     },
     "output_type": "display_data"
    }
   ],
   "source": [
    "plot_results(log_dir, title=\"Random single-qubit unitary\",w=100)"
   ]
  },
  {
   "cell_type": "markdown",
   "id": "46fdaf77",
   "metadata": {},
   "source": [
    "### Two qubit gates:"
   ]
  },
  {
   "cell_type": "markdown",
   "id": "3535fcd3",
   "metadata": {},
   "source": [
    "For the two quibt case, let us begin with a resource state that we know is capable of performing a CNOT gate:"
   ]
  },
  {
   "cell_type": "code",
   "execution_count": 61,
   "id": "8ebb3c43",
   "metadata": {},
   "outputs": [
    {
     "data": {
      "image/png": "[encoded data removed]",
      "text/plain": [
       "<Figure size 288x288 with 1 Axes>"
      ]
     },
     "metadata": {},
     "output_type": "display_data"
    }
   ],
   "source": [
    "#define graph topology\n",
    "gr = nx.Graph()\n",
    "gr.add_nodes_from(list(range(14)))\n",
    "gr.add_edges_from([(0, 2), (2, 4), (4,6), (6,8),(8,10), (10,12), (6,7), \n",
    "                 (1,3),(3,5),(5,7),(7,9),(9,11),(11,13)])\n",
    "\n",
    "#plots graph state\n",
    "fig = plt.figure(1, figsize=(4, 4))\n",
    "xpp = nx.spring_layout(gr)\n",
    "nx.draw(gr)\n",
    "plt.axis('off');"
   ]
  },
  {
   "cell_type": "code",
   "execution_count": 62,
   "id": "1108af5b",
   "metadata": {},
   "outputs": [],
   "source": [
    "#create environment and path for log file\n",
    "env2 = mbqc_env(12, 2, gr, lambda x: x+2, cnot_ij(1,2,2), noise=0, noise_type=\"none\" ,test_fidelity=False, init_state_random = True)\n",
    "\n",
    "log_dir2 = \"./logs2/\"\n",
    "os.makedirs(log_dir2, exist_ok=True)\n",
    "env2 = Monitor(env2, log_dir2)\n",
    "\n",
    "checkpoint_on_event = CheckpointCallback(save_freq=1, save_path='./logs2/')\n",
    "event_callback = EveryNTimesteps(n_steps=1000, callback=checkpoint_on_event)"
   ]
  },
  {
   "cell_type": "code",
   "execution_count": 63,
   "id": "b9230de5",
   "metadata": {},
   "outputs": [
    {
     "data": {
      "text/plain": [
       "<stable_baselines3.ppo.ppo.PPO at 0x295793c7ac0>"
      ]
     },
     "execution_count": 63,
     "metadata": {},
     "output_type": "execute_result"
    }
   ],
   "source": [
    "#Define and train the agent\n",
    "model2 = PPO(\"MlpPolicy\", env2, verbose=0)\n",
    "model2.learn(total_timesteps=int(5e5), callback=event_callback)"
   ]
  },
  {
   "cell_type": "code",
   "execution_count": 64,
   "id": "fb74ed7b",
   "metadata": {},
   "outputs": [
    {
     "data": {
      "image/png": "[encoded data removed]",
      "text/plain": [
       "<Figure size 432x288 with 1 Axes>"
      ]
     },
     "metadata": {
      "needs_background": "light"
     },
     "output_type": "display_data"
    }
   ],
   "source": [
    "#plot learning curve of CNOT\n",
    "plot_results(log_dir2, title=\"CNOT\", w=100)"
   ]
  },
  {
   "cell_type": "markdown",
   "id": "947b4c6b",
   "metadata": {},
   "source": [
    "Let us now try some different resoruce, one that is capable of implementing any 2-qubit gate:"
   ]
  },
  {
   "cell_type": "code",
   "execution_count": 20,
   "id": "b7cb95f3",
   "metadata": {},
   "outputs": [],
   "source": [
    "#Define graph topology\n",
    "gr = nx.Graph()\n",
    "gr.add_nodes_from(list(range(14)))\n",
    "gr.add_edges_from([(0, 1), (1, 2), (2,3), (3,4),(4,5),\n",
    "                   (6,1), (6,5),(6,7),(7,12), (5,8),(8,9),(9,10),(10,11),(11,13)])\n",
    "\n",
    "#plots graph state\n",
    "fig = plt.figure(1, figsize=(4, 4))\n",
    "xpp = nx.spring_layout(gr)\n",
    "nx.draw(gr)\n",
    "plt.axis('off');"
   ]
  },
  {
   "cell_type": "code",
   "execution_count": null,
   "id": "ee1ce9d5",
   "metadata": {},
   "outputs": [],
   "source": [
    "#Define flow on graph gr\n",
    "def flow_function(i):\n",
    "    output = 0\n",
    "    if i==7:\n",
    "        output=12\n",
    "    elif i==5:\n",
    "        output=8\n",
    "    elif i==11:\n",
    "        output=13\n",
    "    else:\n",
    "        output = i+1\n",
    "    return output\n",
    "\n",
    "#Pick any 2-qubit gate:\n",
    "unitary_random2 = unitary_group.rvs(4)"
   ]
  },
  {
   "cell_type": "code",
   "execution_count": 22,
   "id": "eaf183d4",
   "metadata": {},
   "outputs": [],
   "source": [
    "env2 = mbqc_env(12, 2, gr, flow_function, unitary_random2, noise=0, noise_type=\"none\" ,test_fidelity=False, init_state_random = True)\n",
    "\n",
    "log_dir2 = \"./logs2/\"\n",
    "os.makedirs(log_dir2, exist_ok=True)\n",
    "env2 = Monitor(env2, log_dir2)\n",
    "\n",
    "checkpoint_on_event = CheckpointCallback(save_freq=1, save_path='./logs/')\n",
    "event_callback = EveryNTimesteps(n_steps=1000, callback=checkpoint_on_event)"
   ]
  },
  {
   "cell_type": "code",
   "execution_count": 18,
   "id": "a89352d8",
   "metadata": {},
   "outputs": [
    {
     "data": {
      "text/plain": [
       "<stable_baselines3.ppo.ppo.PPO at 0x29575fd4040>"
      ]
     },
     "execution_count": 18,
     "metadata": {},
     "output_type": "execute_result"
    }
   ],
   "source": [
    "#Define and train the agent\n",
    "model2 = PPO(\"MlpPolicy\", env2, verbose=0)\n",
    "model2.learn(total_timesteps=int(5e5), callback=event_callback)"
   ]
  },
  {
   "cell_type": "code",
   "execution_count": 19,
   "id": "6d64d7e1",
   "metadata": {},
   "outputs": [
    {
     "data": {
      "image/png": "[encoded data removed]",
      "text/plain": [
       "<Figure size 432x288 with 1 Axes>"
      ]
     },
     "metadata": {
      "needs_background": "light"
     },
     "output_type": "display_data"
    }
   ],
   "source": [
    "plot_results(log_dir2, title=\"unitary_random2\",w=100)"
   ]
  },
  {
   "cell_type": "markdown",
   "id": "56040c0a",
   "metadata": {},
   "source": [
    "## Performance of agent trained with noisy data:"
   ]
  },
  {
   "cell_type": "code",
   "execution_count": 65,
   "id": "46d9a250",
   "metadata": {},
   "outputs": [],
   "source": [
    "def get_noisy_data(noise_type):\n",
    "    random_noise_data = []\n",
    "    for noise_strength in np.linspace(0,1,30):\n",
    "        env = mbqc_env(4,H, noise=noise_strength ,noise_type = noise_type, test_fidelity=False)\n",
    "        log_dir = \"./logs/\"\n",
    "        os.makedirs(log_dir, exist_ok=True)\n",
    "        env = Monitor(env, log_dir)\n",
    "\n",
    "        checkpoint_on_event = CheckpointCallback(save_freq=1, save_path='./logs/')\n",
    "        event_callback = EveryNTimesteps(n_steps=1000, callback=checkpoint_on_event)\n",
    "        model = PPO(\"MlpPolicy\", env, verbose=0)\n",
    "        model.learn(total_timesteps=int(5e4), callback=event_callback)\n",
    "\n",
    "        values = np.array([])\n",
    "        env = mbqc_env(4,H, noise=noise_strength, test_fidelity=True)\n",
    "        for i in range(100):\n",
    "            obs = env.reset()\n",
    "            done = False\n",
    "            while not done:\n",
    "                action, states = model.predict(obs, deterministic=True)\n",
    "                obs, reward, done, info = env.step(action)\n",
    "                if done:\n",
    "                    values = np.append(values, [reward])\n",
    "        env.close()\n",
    "        random_noise_data.append(values)\n",
    "    return random_noise_data\n",
    "\n",
    "def mean_and_std_data(data):\n",
    "    random_data_mean = []\n",
    "    random_data_std = []\n",
    "    for (indx,i) in enumerate(range(len(random_noise_data))):\n",
    "        random_data_mean.append(np.mean(random_noise_data[indx]))\n",
    "        random_data_std.append(np.std(random_noise_data[indx]))\n",
    "    return random_data_mean,random_data_std"
   ]
  },
  {
   "cell_type": "markdown",
   "id": "e7613255",
   "metadata": {},
   "source": [
    "#### 1) Random noise in training data"
   ]
  },
  {
   "cell_type": "code",
   "execution_count": 66,
   "id": "c3eef9cf",
   "metadata": {},
   "outputs": [
    {
     "ename": "TypeError",
     "evalue": "__init__() missing 3 required positional arguments: 'graph', 'flow', and 'unitary'",
     "output_type": "error",
     "traceback": [
      "\u001b[1;31m---------------------------------------------------------------------------\u001b[0m",
      "\u001b[1;31mTypeError\u001b[0m                                 Traceback (most recent call last)",
      "\u001b[1;32m<ipython-input-66-d9e8f318e62d>\u001b[0m in \u001b[0;36m<module>\u001b[1;34m\u001b[0m\n\u001b[1;32m----> 1\u001b[1;33m \u001b[0mrandom_noise_data\u001b[0m \u001b[1;33m=\u001b[0m \u001b[0mget_noisy_data\u001b[0m\u001b[1;33m(\u001b[0m\u001b[1;34m\"random\"\u001b[0m\u001b[1;33m)\u001b[0m\u001b[1;33m\u001b[0m\u001b[1;33m\u001b[0m\u001b[0m\n\u001b[0m\u001b[0;32m      2\u001b[0m \u001b[0mrandom_data_mean\u001b[0m\u001b[1;33m,\u001b[0m\u001b[0mrandom_data_std\u001b[0m \u001b[1;33m=\u001b[0m \u001b[0mmean_and_std_data\u001b[0m\u001b[1;33m(\u001b[0m\u001b[0mrandom_noise_data\u001b[0m\u001b[1;33m)\u001b[0m\u001b[1;33m\u001b[0m\u001b[1;33m\u001b[0m\u001b[0m\n\u001b[0;32m      3\u001b[0m \u001b[1;33m\u001b[0m\u001b[0m\n\u001b[0;32m      4\u001b[0m \u001b[0mplt\u001b[0m\u001b[1;33m.\u001b[0m\u001b[0merrorbar\u001b[0m\u001b[1;33m(\u001b[0m\u001b[0mnp\u001b[0m\u001b[1;33m.\u001b[0m\u001b[0mlinspace\u001b[0m\u001b[1;33m(\u001b[0m\u001b[1;36m0\u001b[0m\u001b[1;33m,\u001b[0m\u001b[1;36m1\u001b[0m\u001b[1;33m,\u001b[0m\u001b[1;36m30\u001b[0m\u001b[1;33m)\u001b[0m\u001b[1;33m,\u001b[0m \u001b[0mrandom_data_mean\u001b[0m\u001b[1;33m,\u001b[0m \u001b[0myerr\u001b[0m\u001b[1;33m=\u001b[0m \u001b[0mrandom_data_std\u001b[0m\u001b[1;33m,\u001b[0m \u001b[0mc\u001b[0m\u001b[1;33m=\u001b[0m\u001b[1;34m'b'\u001b[0m\u001b[1;33m,\u001b[0m \u001b[0mmarker\u001b[0m\u001b[1;33m=\u001b[0m\u001b[1;34m'.'\u001b[0m\u001b[1;33m,\u001b[0m \u001b[0mlabel\u001b[0m\u001b[1;33m=\u001b[0m\u001b[1;34mr\"$F \\pm \\sigma$\"\u001b[0m\u001b[1;33m)\u001b[0m\u001b[1;33m\u001b[0m\u001b[1;33m\u001b[0m\u001b[0m\n\u001b[0;32m      5\u001b[0m \u001b[0mplt\u001b[0m\u001b[1;33m.\u001b[0m\u001b[0mlegend\u001b[0m\u001b[1;33m(\u001b[0m\u001b[0mloc\u001b[0m\u001b[1;33m=\u001b[0m\u001b[1;36m4\u001b[0m\u001b[1;33m)\u001b[0m\u001b[1;33m\u001b[0m\u001b[1;33m\u001b[0m\u001b[0m\n",
      "\u001b[1;32m<ipython-input-65-65fb8f736ab3>\u001b[0m in \u001b[0;36mget_noisy_data\u001b[1;34m(noise_type)\u001b[0m\n\u001b[0;32m      2\u001b[0m     \u001b[0mrandom_noise_data\u001b[0m \u001b[1;33m=\u001b[0m \u001b[1;33m[\u001b[0m\u001b[1;33m]\u001b[0m\u001b[1;33m\u001b[0m\u001b[1;33m\u001b[0m\u001b[0m\n\u001b[0;32m      3\u001b[0m     \u001b[1;32mfor\u001b[0m \u001b[0mnoise_strength\u001b[0m \u001b[1;32min\u001b[0m \u001b[0mnp\u001b[0m\u001b[1;33m.\u001b[0m\u001b[0mlinspace\u001b[0m\u001b[1;33m(\u001b[0m\u001b[1;36m0\u001b[0m\u001b[1;33m,\u001b[0m\u001b[1;36m1\u001b[0m\u001b[1;33m,\u001b[0m\u001b[1;36m30\u001b[0m\u001b[1;33m)\u001b[0m\u001b[1;33m:\u001b[0m\u001b[1;33m\u001b[0m\u001b[1;33m\u001b[0m\u001b[0m\n\u001b[1;32m----> 4\u001b[1;33m         \u001b[0menv\u001b[0m \u001b[1;33m=\u001b[0m \u001b[0mmbqc_env\u001b[0m\u001b[1;33m(\u001b[0m\u001b[1;36m4\u001b[0m\u001b[1;33m,\u001b[0m\u001b[0mH\u001b[0m\u001b[1;33m,\u001b[0m \u001b[0mnoise\u001b[0m\u001b[1;33m=\u001b[0m\u001b[0mnoise_strength\u001b[0m \u001b[1;33m,\u001b[0m\u001b[0mnoise_type\u001b[0m \u001b[1;33m=\u001b[0m \u001b[0mnoise_type\u001b[0m\u001b[1;33m,\u001b[0m \u001b[0mtest_fidelity\u001b[0m\u001b[1;33m=\u001b[0m\u001b[1;32mFalse\u001b[0m\u001b[1;33m)\u001b[0m\u001b[1;33m\u001b[0m\u001b[1;33m\u001b[0m\u001b[0m\n\u001b[0m\u001b[0;32m      5\u001b[0m         \u001b[0mlog_dir\u001b[0m \u001b[1;33m=\u001b[0m \u001b[1;34m\"./logs/\"\u001b[0m\u001b[1;33m\u001b[0m\u001b[1;33m\u001b[0m\u001b[0m\n\u001b[0;32m      6\u001b[0m         \u001b[0mos\u001b[0m\u001b[1;33m.\u001b[0m\u001b[0mmakedirs\u001b[0m\u001b[1;33m(\u001b[0m\u001b[0mlog_dir\u001b[0m\u001b[1;33m,\u001b[0m \u001b[0mexist_ok\u001b[0m\u001b[1;33m=\u001b[0m\u001b[1;32mTrue\u001b[0m\u001b[1;33m)\u001b[0m\u001b[1;33m\u001b[0m\u001b[1;33m\u001b[0m\u001b[0m\n",
      "\u001b[1;31mTypeError\u001b[0m: __init__() missing 3 required positional arguments: 'graph', 'flow', and 'unitary'"
     ]
    }
   ],
   "source": [
    "random_noise_data = get_noisy_data(\"random\")\n",
    "random_data_mean,random_data_std = mean_and_std_data(random_noise_data)\n",
    "\n",
    "plt.errorbar(np.linspace(0,1,30), random_data_mean, yerr= random_data_std, c='b', marker='.', label=r\"$F \\pm \\sigma$\")\n",
    "plt.legend(loc=4)\n",
    "plt.xlabel(\"Noise strength\")\n",
    "plt.ylabel(\"Average fidelity\")\n",
    "plt.ylim(0.3,1.09)\n",
    "plt.title(\"Random noise model\")\n",
    "plt.show()"
   ]
  },
  {
   "cell_type": "markdown",
   "id": "0bc1c13a",
   "metadata": {},
   "source": [
    "#### 2) Bitflip error channel on training data"
   ]
  },
  {
   "cell_type": "code",
   "execution_count": null,
   "id": "e7a2adcd",
   "metadata": {},
   "outputs": [],
   "source": [
    "bitflip_noise_data = get_noisy_data(\"bitflip\")\n",
    "bitflip_data_mean, bitflip_data_std = mean_and_std_data(bitflip_noise_data)\n",
    "\n",
    "plt.errorbar(np.linspace(0,1,30), bitflip_data_mean, yerr= bitflip_data_std, c='b', marker='.', label=r\"$F \\pm \\sigma$\")\n",
    "plt.legend(loc=3)\n",
    "plt.xlabel(\"Error probability\")\n",
    "plt.ylabel(\"Average fidelity\")\n",
    "plt.ylim(0.1,1.1)\n",
    "plt.title(\"Bitflip noise model\")\n",
    "plt.show()"
   ]
  },
  {
   "cell_type": "code",
   "execution_count": null,
   "id": "e33dcb5d",
   "metadata": {},
   "outputs": [],
   "source": []
  }
 ],
 "metadata": {
  "kernelspec": {
   "display_name": "Python 3",
   "language": "python",
   "name": "python3"
  },
  "language_info": {
   "codemirror_mode": {
    "name": "ipython",
    "version": 3
   },
   "file_extension": ".py",
   "mimetype": "text/x-python",
   "name": "python",
   "nbconvert_exporter": "python",
   "pygments_lexer": "ipython3",
   "version": "3.8.8"
  }
 },
 "nbformat": 4,
 "nbformat_minor": 5
}
