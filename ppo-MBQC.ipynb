{
 "cells": [
  {
   "cell_type": "markdown",
   "id": "2a55efb2",
   "metadata": {},
   "source": [
    "# <p style=\"text-align: center;\"> RL-enhanced MBQC </p>\n"
   ]
  },
  {
   "cell_type": "markdown",
   "id": "b99270b4",
   "metadata": {},
   "source": [
    "We want to use a RL agent to find a measurement pattern in some cluster/graph state that implements some unknown gate $U$\n",
    "<img src=\"./assets/images/interactionDrawing.png\" width=\"500\">\n"
   ]
  },
  {
   "cell_type": "markdown",
   "id": "c1b51ac3",
   "metadata": {},
   "source": [
    "Let us import some important libraries"
   ]
  },
  {
   "cell_type": "code",
   "execution_count": 1,
   "id": "92914ecf",
   "metadata": {},
   "outputs": [
    {
     "name": "stderr",
     "output_type": "stream",
     "text": [
      "C:\\Users\\luism\\anaconda3\\envs\\gym\\lib\\site-packages\\ale_py\\roms\\__init__.py:84: DeprecationWarning: Automatic importing of atari-py roms won't be supported in future releases of ale-py. Please migrate over to using `ale-import-roms` OR an ALE-supported ROM package. To make this warning disappear you can run `ale-import-roms --import-from-pkg atari_py.atari_roms`.For more information see: https://github.com/mgbellemare/Arcade-Learning-Environment#rom-management\n",
      "  __all__ = _resolve_roms()\n"
     ]
    }
   ],
   "source": [
    "import os\n",
    "import gym\n",
    "from gym import spaces\n",
    "\n",
    "import numpy as np\n",
    "import matplotlib.pyplot as plt\n",
    "from scipy import linalg\n",
    "import math\n",
    "from scipy.stats import unitary_group\n",
    "import scipy as scp\n",
    "import networkx as nx\n",
    "\n",
    "from stable_baselines3 import PPO\n",
    "from stable_baselines3.common.monitor import Monitor\n",
    "from stable_baselines3.common.callbacks import CheckpointCallback, EveryNTimesteps\n",
    "\n",
    "from stable_baselines3.common import results_plotter\n",
    "from stable_baselines3.common.results_plotter import load_results, ts2xy"
   ]
  },
  {
   "cell_type": "markdown",
   "id": "9b8db55b",
   "metadata": {},
   "source": [
    "Import the mbqc_env"
   ]
  },
  {
   "cell_type": "code",
   "execution_count": 2,
   "id": "1dcf1e59",
   "metadata": {},
   "outputs": [],
   "source": [
    "from env_mbqc import *"
   ]
  },
  {
   "cell_type": "markdown",
   "id": "c124bc6c",
   "metadata": {},
   "source": [
    "# Training agents!"
   ]
  },
  {
   "cell_type": "markdown",
   "id": "2babca72",
   "metadata": {},
   "source": [
    "### One qubit gates:"
   ]
  },
  {
   "cell_type": "code",
   "execution_count": 8,
   "id": "436a55cb",
   "metadata": {},
   "outputs": [],
   "source": [
    "#define our graph\n",
    "gr = nx.Graph()\n",
    "gr.add_nodes_from(list(range(5)))\n",
    "gr.add_edges_from([(0, 1),(1,2),(2,3),(3,4)])\n",
    "\n",
    "#pick a one-qubit unitary gate to learn\n",
    "unitary_random = unitary_group.rvs(2)"
   ]
  },
  {
   "cell_type": "code",
   "execution_count": 9,
   "id": "b0594beb",
   "metadata": {},
   "outputs": [],
   "source": [
    "#create environment and path for log file\n",
    "env = mbqc_env(4, 1, gr, lambda x: x+1, unitary_random, noise=0, noise_type=\"none\" ,test_fidelity=False, init_state_random = True)\n",
    "log_dir = \"./logs/\"\n",
    "os.makedirs(log_dir, exist_ok=True)\n",
    "env = Monitor(env, log_dir)\n",
    "checkpoint_on_event = CheckpointCallback(save_freq=1, save_path='./logs/')\n",
    "event_callback = EveryNTimesteps(n_steps=1000, callback=checkpoint_on_event)"
   ]
  },
  {
   "cell_type": "code",
   "execution_count": 10,
   "id": "467f04ce",
   "metadata": {},
   "outputs": [],
   "source": [
    "#define and train the model\n",
    "model = PPO(\"MlpPolicy\", env, verbose=0);\n",
    "model.learn(total_timesteps=int(1e5), callback=event_callback);"
   ]
  },
  {
   "cell_type": "code",
   "execution_count": 11,
   "id": "5e745de6",
   "metadata": {},
   "outputs": [
    {
     "data": {
      "image/png": "[encoded data removed]",
      "text/plain": [
       "<Figure size 432x288 with 1 Axes>"
      ]
     },
     "metadata": {
      "needs_background": "light"
     },
     "output_type": "display_data"
    }
   ],
   "source": [
    "plot_results(log_dir, title=\"unitary_random\",w=100)"
   ]
  },
  {
   "cell_type": "markdown",
   "id": "ad9bc843",
   "metadata": {},
   "source": [
    "### Two qubit gates:"
   ]
  },
  {
   "cell_type": "code",
   "execution_count": 16,
   "id": "a574f8af",
   "metadata": {},
   "outputs": [],
   "source": [
    "#Define graph topology\n",
    "gr = nx.Graph()\n",
    "gr.add_nodes_from(list(range(14)))\n",
    "gr.add_edges_from([(0, 1), (1, 2), (2,3), (3,4),(4,5),\n",
    "                   (6,1), (6,5),(6,7),(7,12), (5,8),(8,9),(9,10),(10,11),(11,13)])\n",
    "\n",
    "#Define flow on graph gr\n",
    "def flow_function(i):\n",
    "    output = 0\n",
    "    if i==7:\n",
    "        output=12\n",
    "    elif i==5:\n",
    "        output=8\n",
    "    elif i==11:\n",
    "        output=13\n",
    "    else:\n",
    "        output = i+1\n",
    "    return output\n",
    "\n",
    "#Pick any 2-qubit gate:\n",
    "unitary_random2 = unitary_group.rvs(4)"
   ]
  },
  {
   "cell_type": "code",
   "execution_count": 17,
   "id": "f92a6e86",
   "metadata": {},
   "outputs": [],
   "source": [
    "env2 = mbqc_env(12, 2, gr, flow_function, unitary_random2, noise=0, noise_type=\"none\" ,test_fidelity=False, init_state_random = True)\n",
    "\n",
    "log_dir2 = \"./logs2/\"\n",
    "os.makedirs(log_dir2, exist_ok=True)\n",
    "env2 = Monitor(env2, log_dir2)\n",
    "\n",
    "checkpoint_on_event = CheckpointCallback(save_freq=1, save_path='./logs/')\n",
    "event_callback = EveryNTimesteps(n_steps=1000, callback=checkpoint_on_event)"
   ]
  },
  {
   "cell_type": "code",
   "execution_count": null,
   "id": "544350b5",
   "metadata": {},
   "outputs": [],
   "source": [
    "#Define and train the agent\n",
    "model2 = PPO(\"MlpPolicy\", env2, verbose=0)\n",
    "model2.learn(total_timesteps=int(5e5), callback=event_callback)"
   ]
  },
  {
   "cell_type": "code",
   "execution_count": null,
   "id": "34e98165",
   "metadata": {},
   "outputs": [],
   "source": [
    "plot_results(log_dir2, title=\"unitary_random2\",w=100)"
   ]
  },
  {
   "cell_type": "markdown",
   "id": "cb915f78",
   "metadata": {},
   "source": [
    "## Performance of agent trained with noisy data:"
   ]
  },
  {
   "cell_type": "code",
   "execution_count": null,
   "id": "8527b2f9",
   "metadata": {},
   "outputs": [],
   "source": [
    "def get_noisy_data(noise_type):\n",
    "    random_noise_data = []\n",
    "    for noise_strength in np.linspace(0,1,30):\n",
    "        env = measurement_env(4,H, noise=noise_strength ,noise_type = noise_type, test_fidelity=False)\n",
    "        log_dir = \"./logs/\"\n",
    "        os.makedirs(log_dir, exist_ok=True)\n",
    "        env = Monitor(env, log_dir)\n",
    "\n",
    "        checkpoint_on_event = CheckpointCallback(save_freq=1, save_path='./logs/')\n",
    "        event_callback = EveryNTimesteps(n_steps=1000, callback=checkpoint_on_event)\n",
    "        model = PPO(\"MlpPolicy\", env, verbose=0)\n",
    "        model.learn(total_timesteps=int(5e4), callback=event_callback)\n",
    "\n",
    "        values = np.array([])\n",
    "        env = measurement_env(4,H, noise=noise_strength, test_fidelity=True)\n",
    "        for i in range(100):\n",
    "            obs = env.reset()\n",
    "            done = False\n",
    "            while not done:\n",
    "                action, states = model.predict(obs, deterministic=True)\n",
    "                obs, reward, done, info = env.step(action)\n",
    "                if done:\n",
    "                    values = np.append(values, [reward])\n",
    "        env.close()\n",
    "        random_noise_data.append(values)\n",
    "    return random_noise_data\n",
    "\n",
    "def mean_and_std_data(data):\n",
    "    random_data_mean = []\n",
    "    random_data_std = []\n",
    "    for (indx,i) in enumerate(range(len(random_noise_data))):\n",
    "        random_data_mean.append(np.mean(random_noise_data[indx]))\n",
    "        random_data_std.append(np.std(random_noise_data[indx]))\n",
    "    return random_data_mean,random_data_std"
   ]
  },
  {
   "cell_type": "markdown",
   "id": "12bd6987",
   "metadata": {},
   "source": [
    "#### 1) Random noise in training data"
   ]
  },
  {
   "cell_type": "code",
   "execution_count": null,
   "id": "5a7bc590",
   "metadata": {},
   "outputs": [],
   "source": [
    "random_noise_data = get_noisy_data(\"random\")\n",
    "random_data_mean,random_data_std = mean_and_std_data(random_noise_data)\n",
    "\n",
    "plt.errorbar(np.linspace(0,1,30), random_data_mean, yerr= random_data_std, c='b', marker='.', label=r\"$F \\pm \\sigma$\")\n",
    "plt.legend(loc=4)\n",
    "plt.xlabel(\"Noise strength\")\n",
    "plt.ylabel(\"Average fidelity\")\n",
    "plt.ylim(0.3,1.09)\n",
    "plt.title(\"Random noise model\")\n",
    "plt.show()"
   ]
  },
  {
   "cell_type": "markdown",
   "id": "0f5dfcf7",
   "metadata": {},
   "source": [
    "#### 2) Bitflip error channel on training data"
   ]
  },
  {
   "cell_type": "code",
   "execution_count": null,
   "id": "9e897e3b",
   "metadata": {},
   "outputs": [],
   "source": [
    "bitflip_noise_data = get_noisy_data(\"bitflip\")\n",
    "bitflip_data_mean, bitflip_data_std = mean_and_std_data(bitflip_noise_data)\n",
    "\n",
    "plt.errorbar(np.linspace(0,1,30), bitflip_data_mean, yerr= bitflip_data_std, c='b', marker='.', label=r\"$F \\pm \\sigma$\")\n",
    "plt.legend(loc=3)\n",
    "plt.xlabel(\"Error probability\")\n",
    "plt.ylabel(\"Average fidelity\")\n",
    "plt.ylim(0.1,1.1)\n",
    "plt.title(\"Bitflip noise model\")\n",
    "plt.show()"
   ]
  }
 ],
 "metadata": {
  "kernelspec": {
   "display_name": "Python 3",
   "language": "python",
   "name": "python3"
  },
  "language_info": {
   "codemirror_mode": {
    "name": "ipython",
    "version": 3
   },
   "file_extension": ".py",
   "mimetype": "text/x-python",
   "name": "python",
   "nbconvert_exporter": "python",
   "pygments_lexer": "ipython3",
   "version": "3.8.8"
  }
 },
 "nbformat": 4,
 "nbformat_minor": 5
}
