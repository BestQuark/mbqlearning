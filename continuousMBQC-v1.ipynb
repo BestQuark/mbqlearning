{
 "cells": [
  {
   "cell_type": "markdown",
   "id": "00843e3d",
   "metadata": {},
   "source": [
    "# <p style=\"text-align: center;\"> RL-enhanced MBQC </p>\n"
   ]
  },
  {
   "cell_type": "markdown",
   "id": "03e76ceb",
   "metadata": {},
   "source": [
    "We want to use a RL agent to find a measurement pattern in some cluster/graph state that implements some unknown gate $U$\n",
    "<img src=\"./assets/images/interactionDrawing.png\" width=\"500\">\n"
   ]
  },
  {
   "cell_type": "code",
   "execution_count": 1,
   "id": "256cb6c9",
   "metadata": {},
   "outputs": [
    {
     "name": "stderr",
     "output_type": "stream",
     "text": [
      "C:\\Users\\luism\\anaconda3\\envs\\gym\\lib\\site-packages\\ale_py\\roms\\__init__.py:84: DeprecationWarning: Automatic importing of atari-py roms won't be supported in future releases of ale-py. Please migrate over to using `ale-import-roms` OR an ALE-supported ROM package. To make this warning disappear you can run `ale-import-roms --import-from-pkg atari_py.atari_roms`.For more information see: https://github.com/mgbellemare/Arcade-Learning-Environment#rom-management\n",
      "  __all__ = _resolve_roms()\n"
     ]
    }
   ],
   "source": [
    "#import libraries\n",
    "import os\n",
    "import gym\n",
    "from gym import spaces\n",
    "\n",
    "import numpy as np\n",
    "import matplotlib.pyplot as plt\n",
    "from scipy import linalg\n",
    "import math\n",
    "from scipy.stats import unitary_group\n",
    "import scipy as scp\n",
    "\n",
    "from stable_baselines3 import PPO\n",
    "from stable_baselines3.common import results_plotter\n",
    "from stable_baselines3.common.monitor import Monitor\n",
    "from stable_baselines3.common.results_plotter import load_results, ts2xy\n",
    "from stable_baselines3.common.callbacks import CheckpointCallback, EveryNTimesteps"
   ]
  },
  {
   "cell_type": "code",
   "execution_count": 41,
   "id": "5b84c8c1",
   "metadata": {},
   "outputs": [],
   "source": [
    "#COMMON GATES\n",
    "H = np.array([[1,1],[1,-1]])/np.sqrt(2)\n",
    "S = np.array([[1,0],[0,1j]])\n",
    "Pi8 = np.array([[1,0],[0,np.exp(1j*np.pi/4)]])\n",
    "sx = np.array([[0,1],[1,0]])\n",
    "sz = np.array([[1,0],[0,-1]])\n",
    "\n",
    "#COMMON STATES\n",
    "q_zero = np.array([[1],[0]])\n",
    "qubit_plus = H@q_zero\n",
    "\n",
    "def brownian_circuit(dim, n, dt):\n",
    "    u = np.eye(dim)\n",
    "    for j in range(n):\n",
    "        re = np.random.normal(size=(dim,dim))\n",
    "        im = 1j*np.random.normal(size=(dim,dim))\n",
    "        c = re + im\n",
    "        h = (c+np.conj(c.T))/4\n",
    "        u = u@scp.linalg.expm(1j*h*dt)\n",
    "    return u\n",
    "\n",
    "def randomUnitary_closetoid(dim, t, n):\n",
    "    return brownian_circuit(dim,n, np.sqrt(1/(n*dim))*2*np.pi*t)\n",
    "\n",
    "def moving_average(values, window):\n",
    "    weights = np.repeat(1.0, window) / window\n",
    "    return np.convolve(values, weights, 'valid')\n",
    "\n",
    "\n",
    "def plot_results(log_folder, title='Learning Curve', window=50):\n",
    "    \n",
    "    x, y = ts2xy(load_results(log_folder), 'timesteps')\n",
    "    y = moving_average(y, window=window)\n",
    "    x = x[len(x) - len(y):]\n",
    "\n",
    "    fig = plt.figure(title)\n",
    "    plt.plot(x, y)\n",
    "    plt.xlabel('Steps')\n",
    "    plt.ylabel('Average Fidelity')\n",
    "    plt.title(title)\n",
    "    plt.show()\n",
    "    \n",
    "def u3(theta, phi, lamb):\n",
    "    return np.array([[np.cos(theta/2), -np.exp(1j*lamb)*np.sin(theta/2)],[np.exp(1j*phi)*np.sin(theta/2), np.exp(1j*(theta+lamb))*np.cos(theta/2) ]])\n",
    "\n",
    "def rx(theta):\n",
    "    return u3(theta, -np.pi/2, np.pi/2)\n",
    "\n",
    "def ry(theta):\n",
    "    return u3(theta, 0.0,0.0)\n",
    "\n",
    "def cost_fun(U,V):\n",
    "    return np.sum(np.sum(np.abs(U-V)))\n",
    "\n",
    "def ux(theta):\n",
    "    return scp.linalg.expm(-1j*theta*sx/2)\n",
    "\n",
    "def uz(theta):\n",
    "    return scp.linalg.expm(-1j*theta*sz/2)\n",
    "\n",
    "def eu_dec(theta, phi, lamb,phase):\n",
    "    return (np.exp(1j*phase))*ux(theta)@uz(phi)@ux(lamb)"
   ]
  },
  {
   "cell_type": "code",
   "execution_count": 3,
   "id": "fa8ac778",
   "metadata": {},
   "outputs": [],
   "source": [
    "class measurement_env(gym.Env):\n",
    "    metadata = {'render.modes': ['human']}\n",
    "    \n",
    "    q_zero = np.array([[1],[0]])\n",
    "    H = np.array([[1,1],[1,-1]])/np.sqrt(2)\n",
    "    qubit_plus = H@q_zero\n",
    "    sx = np.array([[0,1],[1,0]])\n",
    "    sz = np.array([[1,0],[0,-1]])\n",
    "    \n",
    "    def __init__(self, n_qubits, unitary, noise=0, noise_type=\"random\" ,test_fidelity=False, init_state_random = True, init_random_unitary= np.eye(2)):\n",
    "        self.n_qubits = n_qubits\n",
    "        self.unitary = unitary\n",
    "        self.noise = noise\n",
    "        self.noise_type = noise_type\n",
    "        self.test_fidelity = test_fidelity\n",
    "        self.init_state_random = init_state_random\n",
    "        \n",
    "        self.action_space = spaces.Box(low = np.array([-1*(np.pi+0.1)]), high=np.array([1*(np.pi+0.1)]) )\n",
    "        self.observation_space = spaces.Box(low=-4*np.ones(self.n_qubits), high=1*(np.pi+0.1)*np.ones(self.n_qubits))\n",
    "        \n",
    "        \n",
    "        self.state = -4*np.ones(self.n_qubits)\n",
    "        self.total_measurements = self.n_qubits\n",
    "        self.measurements_left = self.n_qubits\n",
    "        \n",
    "        self.init_rand = init_random_unitary\n",
    "        \n",
    "        if self.init_state_random:\n",
    "            st = unitary_group.rvs(2)@q_zero\n",
    "        elif not self.init_state_random:\n",
    "            st = self.init_rand@q_zero\n",
    "        \n",
    "        if self.noise_type==\"random\":\n",
    "            noisyU = randomUnitary_closetoid(2,self.noise,20)\n",
    "            self.final_qstate_train = self.pure2density(noisyU@self.unitary@(np.conj(noisyU.T))@st)\n",
    "        elif self.noise_type==\"bitflip\":\n",
    "            errs = np.random.choice([0,1],p=[1-self.noise, self.noise])\n",
    "            if errs==0:\n",
    "                self.final_qstate_train = self.pure2density(self.unitary@st)\n",
    "            elif errs==1:\n",
    "                self.final_qstate_train = self.pure2density(sx@self.unitary@st)\n",
    "            \n",
    "        self.final_qstate_test = self.pure2density(self.unitary@st)\n",
    "\n",
    "        \n",
    "        self.qstate = self.pure2density(self.create_1D_gs_input(st,self.n_qubits+1))\n",
    "        \n",
    "        self.s_even = 0\n",
    "        self.s_odd = 0\n",
    "\n",
    "    def step(self, action):\n",
    "        current_measurement = self.total_measurements - self.measurements_left\n",
    "        self.state[current_measurement] = action[0]\n",
    "        corrected_action = action[0]\n",
    "        if current_measurement%2==0:\n",
    "            corrected_action =(corrected_action*((-1)**(self.s_even%2)))\n",
    "        elif current_measurement%2==1:\n",
    "            corrected_action =(corrected_action*((-1)**(self.s_odd%2)))\n",
    "        \n",
    "        self.qstate, outcome = self.measure_angle(self.qstate, corrected_action,current_measurement)\n",
    "        \n",
    "        if current_measurement%2==0:\n",
    "            self.s_odd += int(outcome)\n",
    "        elif current_measurement%2==1:\n",
    "            self.s_even += int(outcome)\n",
    "        \n",
    "        reward = 0 #fidelity\n",
    "        \n",
    "        self.measurements_left -= 1\n",
    "        if self.measurements_left == 0:\n",
    "            sx = np.array([[0,1],[1,0]])\n",
    "            sz = np.array([[1,0],[0,-1]])\n",
    "            last_qbit = self.partial_trace(self.qstate,[i for i in range(0,self.n_qubits)])\n",
    "            ssx =int(self.s_even%2)\n",
    "            ssz =int(self.s_odd%2)\n",
    "            byprod = np.linalg.matrix_power(sx,ssx)@np.linalg.matrix_power(sz,ssz)\n",
    "            last_qbit = byprod@last_qbit@(np.conjugate(byprod.T))\n",
    "            if not self.test_fidelity:\n",
    "                reward = self.fidelity(last_qbit, self.final_qstate_train)\n",
    "            elif self.test_fidelity:\n",
    "                reward = self.fidelity(last_qbit, self.final_qstate_test)\n",
    "            done = True\n",
    "        else:\n",
    "            done = False\n",
    "        \n",
    "        info = {}\n",
    "\n",
    "        return self.state, reward, done, info\n",
    "        \n",
    "        \n",
    "    def reset(self):\n",
    "        \n",
    "        self.state = -4*np.ones(self.n_qubits)\n",
    "        self.total_measurements = self.n_qubits\n",
    "        self.measurements_left = self.n_qubits\n",
    "        \n",
    "        if self.init_state_random:\n",
    "            st = unitary_group.rvs(2)@q_zero\n",
    "        elif not self.init_state_random:\n",
    "            st = self.init_rand@q_zero\n",
    "        \n",
    "        if self.noise_type==\"random\":\n",
    "            noisyU = randomUnitary_closetoid(2,self.noise,20)\n",
    "            self.final_qstate_train = self.pure2density(noisyU@self.unitary@(np.conj(noisyU.T))@st)\n",
    "        elif self.noise_type==\"bitflip\":\n",
    "            errs = np.random.choice([0,1],p=[1-self.noise, self.noise])\n",
    "            if errs==0:\n",
    "                self.final_qstate_train = self.pure2density(self.unitary@st)\n",
    "            elif errs==1:\n",
    "                self.final_qstate_train = self.pure2density(sx@self.unitary@st)\n",
    "                \n",
    "        self.final_qstate_test = self.pure2density(self.unitary@st)\n",
    "\n",
    "        self.qstate = self.pure2density(self.create_1D_gs_input(st,self.n_qubits+1))\n",
    "        \n",
    "        self.s_even = 0\n",
    "        self.s_odd = 0\n",
    "          \n",
    "        return self.state\n",
    "        \n",
    "    def render(self, mode='human', close=False):\n",
    "        pass\n",
    "\n",
    "    def controlled_z(self, i, j , n):\n",
    "        op1, op2 = 1, 2\n",
    "        for k in range(1,n+1):\n",
    "            op1 = np.kron(op1, np.eye(2))\n",
    "            if k in [i,j]:\n",
    "                op2 = np.kron(op2, np.kron(np.conjugate(np.array([[0],[1]]).T), np.array([[0],[1]])))\n",
    "            else:\n",
    "                op2 = np.kron(op2, np.eye(2))\n",
    "        return op1-op2\n",
    "\n",
    "\n",
    "    def create_1D_gs(self, n):\n",
    "        psi = 1\n",
    "        for i in range(1,n+1):\n",
    "            psi = np.kron(psi,qubit_plus)\n",
    "        for i in range(1,n):\n",
    "            psi = self.controlled_z(i,i+1,n)@psi\n",
    "        return psi\n",
    "\n",
    "    def create_1D_gs_input(self, psi, n):\n",
    "        for i in range(2,n+1):\n",
    "            psi = np.kron(psi,qubit_plus)\n",
    "        for i in range(1,n):\n",
    "            psi = self.controlled_z(i,i+1,n)@psi\n",
    "        return psi    \n",
    "\n",
    "    def fidelity(self, sigma, rho):\n",
    "        srho = linalg.sqrtm(rho)\n",
    "        prod = srho@sigma@srho\n",
    "        sprod = linalg.sqrtm(prod)\n",
    "        return np.abs(np.trace(sprod))\n",
    "\n",
    "    def pure2density(self, psi):\n",
    "        return np.kron(psi, np.conjugate(psi.T))\n",
    "\n",
    "    def measure_angle(self, rho, angle, i):\n",
    "        n = self.n_qubits+1\n",
    "        pi0 = 1\n",
    "        pi1 = 1\n",
    "        pi0op = np.array([[1, np.exp(-angle*1j)],[np.exp(angle*1j), 1]])/2\n",
    "        pi1op = np.array([[1,-np.exp(-angle*1j)],[-np.exp(angle*1j), 1]])/2\n",
    "        for k in range(0,n):\n",
    "            if k == i:\n",
    "                pi0 = np.kron(pi0, pi0op)\n",
    "                pi1 = np.kron(pi1, pi1op)\n",
    "            else:\n",
    "                pi0 = np.kron(pi0, np.eye(2))\n",
    "                pi1 = np.kron(pi1, np.eye(2))\n",
    "        prob0, prob1 = np.real(np.trace(rho@pi0)), np.real(np.trace(rho@pi1))\n",
    "        measurement = np.random.choice([0,1], p=[prob0,prob1]/(prob0+prob1))\n",
    "\n",
    "        if measurement==0:\n",
    "            rho = pi0@rho@pi0/prob0\n",
    "        elif measurement==1:\n",
    "            rho = pi1@rho@pi1/prob1\n",
    "        \n",
    "        return rho, measurement\n",
    "\n",
    "    def partial_trace(self, rho, indices):\n",
    "        x,y = rho.shape\n",
    "        n = int(math.log(x,2))\n",
    "        r = len(indices)\n",
    "        sigma = np.zeros((int(x/(2**r)), int(y/(2**r))))\n",
    "        for m in range(0, 2**r):\n",
    "            qubits = format(m,'0'+f'{r}'+'b')\n",
    "            ptrace = 1\n",
    "            for k in range(0,n):\n",
    "                if k in indices:\n",
    "                    idx = indices.index(k)\n",
    "                    if qubits[idx]=='0':\n",
    "                        ptrace = np.kron(ptrace, np.array([[1],[0]]))\n",
    "                    elif qubits[idx]=='1':\n",
    "                        ptrace = np.kron(ptrace, np.array([[0],[1]]))\n",
    "                else:\n",
    "                    ptrace = np.kron(ptrace, np.eye(2))\n",
    "            sigma = sigma + np.conjugate(ptrace.T)@rho@(ptrace)\n",
    "        return sigma"
   ]
  },
  {
   "cell_type": "code",
   "execution_count": 151,
   "id": "b661c327",
   "metadata": {},
   "outputs": [
    {
     "name": "stderr",
     "output_type": "stream",
     "text": [
      "C:\\Users\\luism\\anaconda3\\envs\\gym\\lib\\site-packages\\gym\\spaces\\box.py:73: UserWarning: \u001b[33mWARN: Box bound precision lowered by casting to float32\u001b[0m\n",
      "  logger.warn(\n"
     ]
    }
   ],
   "source": [
    "env = measurement_env(4,H, noise=0, test_fidelity=False)\n",
    "\n",
    "log_dir = \"./logs/\"\n",
    "os.makedirs(log_dir, exist_ok=True)\n",
    "env = Monitor(env, log_dir)\n",
    "\n",
    "checkpoint_on_event = CheckpointCallback(save_freq=1, save_path='./logs/')\n",
    "event_callback = EveryNTimesteps(n_steps=1000, callback=checkpoint_on_event)"
   ]
  },
  {
   "cell_type": "code",
   "execution_count": 152,
   "id": "5f660b05",
   "metadata": {},
   "outputs": [
    {
     "data": {
      "text/plain": [
       "<stable_baselines3.ppo.ppo.PPO at 0x1fbec27cd90>"
      ]
     },
     "execution_count": 152,
     "metadata": {},
     "output_type": "execute_result"
    }
   ],
   "source": [
    "model = PPO(\"MlpPolicy\", env, verbose=0)\n",
    "model.learn(total_timesteps=int(5e4), callback=event_callback)"
   ]
  },
  {
   "cell_type": "code",
   "execution_count": 153,
   "id": "3d17fcd1",
   "metadata": {},
   "outputs": [
    {
     "data": {
      "image/png": "[encoded data removed]",
      "text/plain": [
       "<Figure size 432x288 with 1 Axes>"
      ]
     },
     "metadata": {
      "needs_background": "light"
     },
     "output_type": "display_data"
    }
   ],
   "source": [
    "plot_results(log_dir, title=\"Hadamard\")"
   ]
  },
  {
   "cell_type": "code",
   "execution_count": 785,
   "id": "2000d34f",
   "metadata": {},
   "outputs": [
    {
     "data": {
      "text/plain": [
       "(array([0., 0., 0., 0.]), 1.0000000087812921, True, {})"
      ]
     },
     "execution_count": 785,
     "metadata": {},
     "output_type": "execute_result"
    }
   ],
   "source": [
    "env = measurement_env(4,np.eye(2), noise=0, test_fidelity=False)\n",
    "env.step([0])\n",
    "env.step([0])\n",
    "env.step([0])\n",
    "env.step([0])"
   ]
  },
  {
   "cell_type": "markdown",
   "id": "a04ea7fd",
   "metadata": {},
   "source": [
    "\n",
    "# Fidelity vs noise (t)\n"
   ]
  },
  {
   "cell_type": "code",
   "execution_count": 72,
   "id": "8299fe38",
   "metadata": {},
   "outputs": [
    {
     "name": "stderr",
     "output_type": "stream",
     "text": [
      "C:\\Users\\luism\\anaconda3\\envs\\gym\\lib\\site-packages\\gym\\spaces\\box.py:73: UserWarning: \u001b[33mWARN: Box bound precision lowered by casting to float32\u001b[0m\n",
      "  logger.warn(\n"
     ]
    }
   ],
   "source": [
    "dats2 = []\n",
    "for ruid in np.linspace(0,0.5,5):\n",
    "    env = measurement_env(4,H, noise=ruid, test_fidelity=False)\n",
    "\n",
    "    log_dir = \"./logs/\"\n",
    "    os.makedirs(log_dir, exist_ok=True)\n",
    "    env = Monitor(env, log_dir)\n",
    "\n",
    "    checkpoint_on_event = CheckpointCallback(save_freq=1, save_path='./logs/')\n",
    "    event_callback = EveryNTimesteps(n_steps=1000, callback=checkpoint_on_event)\n",
    "    model = PPO(\"MlpPolicy\", env, verbose=0)\n",
    "    model.learn(total_timesteps=int(5e4), callback=event_callback)\n",
    "    \n",
    "    vals = np.array([])\n",
    "    env = measurement_env(4,H, noise=ruid, test_fidelity=True)\n",
    "    for i in range(100):\n",
    "        obs = env.reset()\n",
    "        done = False\n",
    "        while not done:\n",
    "            action, states = model.predict(obs, deterministic=True)\n",
    "            obs, reward, done, info = env.step(action)\n",
    "            if done:\n",
    "                vals = np.append(vals, [reward])\n",
    "    env.close()\n",
    "        \n",
    "    dats2.append(vals)"
   ]
  },
  {
   "cell_type": "code",
   "execution_count": 112,
   "id": "3d0a829d",
   "metadata": {},
   "outputs": [
    {
     "data": {
      "image/png": "[encoded data removed]",
      "text/plain": [
       "<Figure size 432x288 with 1 Axes>"
      ]
     },
     "metadata": {
      "needs_background": "light"
     },
     "output_type": "display_data"
    }
   ],
   "source": [
    "plt.boxplot(dats, positions=range(30))\n",
    "plt.xlabel(r\"$t/30$\")\n",
    "plt.ylabel(\"Fidelity\")\n",
    "for i in range(30):\n",
    "    y = dats[i]\n",
    "    x = len(y)*[i+1]\n",
    "    plt.plot(x, y, 'r.', alpha=0.05)\n",
    "plt.show()"
   ]
  },
  {
   "cell_type": "code",
   "execution_count": 276,
   "id": "146c7f9a",
   "metadata": {},
   "outputs": [
    {
     "name": "stdout",
     "output_type": "stream",
     "text": [
      "100\n"
     ]
    },
    {
     "data": {
      "image/png": "[encoded data removed]",
      "text/plain": [
       "<Figure size 432x288 with 1 Axes>"
      ]
     },
     "metadata": {
      "needs_background": "light"
     },
     "output_type": "display_data"
    }
   ],
   "source": [
    "dd = []\n",
    "sigm = []\n",
    "print(len(dats[0]))\n",
    "for (indx,i) in enumerate(range(len(dats))):\n",
    "    dd.append(np.mean(dats[indx]))\n",
    "    sigm.append(np.std(dats[indx]))\n",
    "\n",
    "plt.errorbar(np.linspace(0,1,30), dd, yerr= sigm, c='r', marker='.', label=r\"$F \\pm \\sigma$\")\n",
    "plt.legend(loc=4)\n",
    "plt.xlabel(\"noise strength\")\n",
    "plt.ylabel(\"avg fidelity\")\n",
    "plt.ylim(0.3,1.09)\n",
    "plt.title(\"Fidelity for Hadamard gate by agent under random noise\")\n",
    "plt.show()"
   ]
  },
  {
   "cell_type": "code",
   "execution_count": 264,
   "id": "ebc56c98",
   "metadata": {},
   "outputs": [
    {
     "name": "stderr",
     "output_type": "stream",
     "text": [
      "C:\\Users\\luism\\anaconda3\\envs\\gym\\lib\\site-packages\\gym\\spaces\\box.py:73: UserWarning: \u001b[33mWARN: Box bound precision lowered by casting to float32\u001b[0m\n",
      "  logger.warn(\n"
     ]
    }
   ],
   "source": [
    "dats2 = []\n",
    "for ruid in np.linspace(0,1,30):\n",
    "    env = measurement_env(4,H, noise=ruid, noise_type=\"bitflip\", test_fidelity=False)\n",
    "\n",
    "    log_dir = \"./logs/\"\n",
    "    os.makedirs(log_dir, exist_ok=True)\n",
    "    env = Monitor(env, log_dir)\n",
    "\n",
    "    checkpoint_on_event = CheckpointCallback(save_freq=1, save_path='./logs/')\n",
    "    event_callback = EveryNTimesteps(n_steps=1000, callback=checkpoint_on_event)\n",
    "    model = PPO(\"MlpPolicy\", env, verbose=0)\n",
    "    model.learn(total_timesteps=int(5e4), callback=event_callback)\n",
    "    \n",
    "    vals = np.array([])\n",
    "    env = measurement_env(4,H, noise=ruid, test_fidelity=True)\n",
    "    for i in range(100):\n",
    "        obs = env.reset()\n",
    "        done = False\n",
    "        while not done:\n",
    "            action, states = model.predict(obs, deterministic=True)\n",
    "            obs, reward, done, info = env.step(action)\n",
    "            if done:\n",
    "                vals = np.append(vals, [reward])\n",
    "    env.close()\n",
    "        \n",
    "    dats2.append(vals)"
   ]
  },
  {
   "cell_type": "code",
   "execution_count": 278,
   "id": "c0e9206b",
   "metadata": {},
   "outputs": [
    {
     "name": "stdout",
     "output_type": "stream",
     "text": [
      "Learning with noisy data, tested with no noise\n"
     ]
    },
    {
     "data": {
      "image/png": "[encoded data removed]",
      "text/plain": [
       "<Figure size 432x288 with 1 Axes>"
      ]
     },
     "metadata": {
      "needs_background": "light"
     },
     "output_type": "display_data"
    }
   ],
   "source": [
    "dd = []\n",
    "sigm = []\n",
    "print(\"Learning with noisy data, tested with no noise\")\n",
    "for (indx,i) in enumerate(range(len(dats2))):\n",
    "    dd.append(np.mean(dats2[indx]))\n",
    "    sigm.append(np.std(dats2[indx]))\n",
    "\n",
    "plt.errorbar(np.linspace(0,1,30), dd, yerr= sigm, c='r', marker='.', label=r\"$F \\pm \\sigma$\")\n",
    "plt.legend(loc=3)\n",
    "plt.xlabel(\"p\")\n",
    "plt.ylabel(\"avg fidelity\")\n",
    "plt.ylim(0.1,1.1)\n",
    "plt.title(\"Fidelity for Hadamard learned under bitflip channel\")\n",
    "plt.show()\n"
   ]
  },
  {
   "cell_type": "code",
   "execution_count": null,
   "id": "8410846e",
   "metadata": {},
   "outputs": [],
   "source": []
  },
  {
   "cell_type": "markdown",
   "id": "40c9fdc9",
   "metadata": {},
   "source": [
    "--------------------------------------------\n",
    "\n",
    "# Hessian of fidelity\n",
    "\n",
    "--------------------------------------------"
   ]
  },
  {
   "cell_type": "code",
   "execution_count": 5,
   "id": "c2710200",
   "metadata": {},
   "outputs": [],
   "source": [
    "import numdifftools as nd"
   ]
  },
  {
   "cell_type": "markdown",
   "id": "4198d5e1",
   "metadata": {},
   "source": [
    "## 4 parameters"
   ]
  },
  {
   "cell_type": "code",
   "execution_count": 5,
   "id": "d88822fc",
   "metadata": {},
   "outputs": [],
   "source": [
    "# we need to fix input state (we pick |0>) to have a deterministic Hessian\n",
    "initR = unitary_group.rvs(2)\n",
    "def fid_fun(angles, gate):\n",
    "    env = measurement_env(4, gate, noise=0, test_fidelity=True, init_state_random=False, init_random_unitary=initR)\n",
    "    fids = []\n",
    "    for k in range(1):\n",
    "        obs = env.reset()\n",
    "        done,i = False, 0\n",
    "        while not done:\n",
    "            obs, reward, done, info = env.step([angles[i]])\n",
    "            i+=1\n",
    "            if done:\n",
    "                fids.append(reward)\n",
    "    env.close()\n",
    "    return np.mean(fids)\n",
    "\n",
    "def hess(gate, p): return nd.Hessian(lambda angles: fid_fun(angles, gate) )(p)"
   ]
  },
  {
   "cell_type": "code",
   "execution_count": 6,
   "id": "a4a51701",
   "metadata": {},
   "outputs": [
    {
     "name": "stderr",
     "output_type": "stream",
     "text": [
      "C:\\Users\\luism\\anaconda3\\envs\\gym\\lib\\site-packages\\gym\\spaces\\box.py:73: UserWarning: \u001b[33mWARN: Box bound precision lowered by casting to float32\u001b[0m\n",
      "  logger.warn(\n"
     ]
    }
   ],
   "source": [
    "HessMatrix = hess(H, [-np.pi/4 ,-np.pi/2, -np.pi/2, -np.pi/4 ]).round(5);\n",
    "eigVals, eigVecs = np.linalg.eig(HessMatrix)"
   ]
  },
  {
   "cell_type": "code",
   "execution_count": 355,
   "id": "76a05a0e",
   "metadata": {},
   "outputs": [
    {
     "name": "stdout",
     "output_type": "stream",
     "text": [
      "[-0.63313998  0.41166701  0.16969914 -0.63313998] has eigValue -0.41727133529259297\n",
      "[ 1.29960928e-05 -3.81078910e-01  9.24542516e-01  1.29960928e-05] has eigValue -0.24999856928216113\n",
      "[ 7.07106781e-01 -2.05809164e-10 -8.48284033e-11 -7.07106781e-01] has eigValue -3.87480383328502e-17\n",
      "[0.31485514 0.827834   0.34120864 0.31485514] has eigValue -9.542524614832006e-08\n"
     ]
    }
   ],
   "source": [
    "for i in range(4):\n",
    "    print(f\"{eigVecs[:,i]} has eigValue {eigVals[i]}\")"
   ]
  },
  {
   "cell_type": "code",
   "execution_count": 327,
   "id": "f0a8cd87",
   "metadata": {},
   "outputs": [
    {
     "name": "stderr",
     "output_type": "stream",
     "text": [
      "C:\\Users\\luism\\anaconda3\\envs\\gym\\lib\\site-packages\\gym\\spaces\\box.py:73: UserWarning: \u001b[33mWARN: Box bound precision lowered by casting to float32\u001b[0m\n",
      "  logger.warn(\n"
     ]
    },
    {
     "data": {
      "text/plain": [
       "array([[-0.19407,  0.09169, -0.04948, -0.19407],\n",
       "       [ 0.09169, -0.0997 , -0.0811 ,  0.09169],\n",
       "       [-0.04948, -0.0811 , -0.20624, -0.04948],\n",
       "       [-0.19407,  0.09169, -0.04948, -0.19407]])"
      ]
     },
     "execution_count": 327,
     "metadata": {},
     "output_type": "execute_result"
    }
   ],
   "source": [
    "hess(H, [0 ,-np.pi/2, -np.pi/2, -np.pi/2 ]).round(5)"
   ]
  },
  {
   "cell_type": "code",
   "execution_count": 328,
   "id": "48456dd2",
   "metadata": {},
   "outputs": [
    {
     "name": "stderr",
     "output_type": "stream",
     "text": [
      "C:\\Users\\luism\\anaconda3\\envs\\gym\\lib\\site-packages\\gym\\spaces\\box.py:73: UserWarning: \u001b[33mWARN: Box bound precision lowered by casting to float32\u001b[0m\n",
      "  logger.warn(\n"
     ]
    },
    {
     "name": "stdout",
     "output_type": "stream",
     "text": [
      "1.0000000058333698\n",
      "1.0000000047123403\n",
      "1.0000000024911326\n",
      "1.0000000005509433\n",
      "1.0000000016830797\n",
      "1.0000000048167585\n",
      "1.0000000027963578\n",
      "1.0000000048167585\n",
      "1.0000000037586558\n",
      "1.0000000046502258\n"
     ]
    }
   ],
   "source": [
    "#check that there is a one-parametric family of solutions to implement H\n",
    "for t in np.linspace(0,5,10):\n",
    "    print(fid_fun([-np.pi/2 + t,-np.pi/2, -np.pi/2, -t], H))"
   ]
  },
  {
   "cell_type": "markdown",
   "id": "b9de2de9",
   "metadata": {},
   "source": [
    "## 3 parameters"
   ]
  },
  {
   "cell_type": "code",
   "execution_count": 7,
   "id": "e5171b52",
   "metadata": {},
   "outputs": [],
   "source": [
    "initR = unitary_group.rvs(2)\n",
    "# initR = np.eye(2)\n",
    "# initR = np.array([[0,1],[1,0]])\n",
    "# initR = H\n",
    "def fid_fun2(angles, gate):\n",
    "    env = measurement_env(4, gate, noise=0, test_fidelity=True, init_state_random=False, init_random_unitary=initR)\n",
    "    fids = []\n",
    "    angles= np.append([0],angles)\n",
    "    for k in range(1):\n",
    "        obs = env.reset()\n",
    "        done,i = False, 0\n",
    "        while not done:\n",
    "            obs, reward, done, info = env.step([angles[i]])\n",
    "            i+=1\n",
    "            if done:\n",
    "                fids.append(reward)\n",
    "    env.close()\n",
    "    return np.mean(fids)\n",
    "\n",
    "def hess2(gate, p): return nd.Hessian(lambda angles: fid_fun2(angles, gate) )(p)"
   ]
  },
  {
   "cell_type": "code",
   "execution_count": 378,
   "id": "4e618663",
   "metadata": {},
   "outputs": [],
   "source": [
    "HessMatrix2 = hess2(H, [-np.pi/2, -np.pi/2, -np.pi/2 ]).round(5)"
   ]
  },
  {
   "cell_type": "code",
   "execution_count": 379,
   "id": "16ca8930",
   "metadata": {},
   "outputs": [
    {
     "name": "stdout",
     "output_type": "stream",
     "text": [
      "[ 0.88756401 -0.37459831 -0.26815339] has eigValue -2.7132644876044507e-06\n",
      "[0.44823729 0.83660128 0.31493117] has eigValue -0.25000189921574384\n",
      "[-0.10636479  0.39971791 -0.91044611] has eigValue -0.24999538751976855\n"
     ]
    }
   ],
   "source": [
    "eigVals2, eigVecs2 = np.linalg.eig(HessMatrix2)\n",
    "for i in range(3):\n",
    "    print(f\"{eigVecs2[:,i]} has eigValue {eigVals2[i]}\")"
   ]
  },
  {
   "cell_type": "code",
   "execution_count": 380,
   "id": "c4373e8b",
   "metadata": {},
   "outputs": [
    {
     "name": "stderr",
     "output_type": "stream",
     "text": [
      "C:\\Users\\luism\\anaconda3\\envs\\gym\\lib\\site-packages\\gym\\spaces\\box.py:73: UserWarning: \u001b[33mWARN: Box bound precision lowered by casting to float32\u001b[0m\n",
      "  logger.warn(\n"
     ]
    },
    {
     "data": {
      "text/plain": [
       "array([[-0.05306, -0.08312, -0.0595 ],\n",
       "       [-0.08312, -0.21492,  0.02511],\n",
       "       [-0.0595 ,  0.02511, -0.23202]])"
      ]
     },
     "execution_count": 380,
     "metadata": {},
     "output_type": "execute_result"
    }
   ],
   "source": [
    "hess2(H, [-np.pi/2 , -np.pi/2, -np.pi/2 ]).round(5)"
   ]
  },
  {
   "cell_type": "code",
   "execution_count": 381,
   "id": "aef4c579",
   "metadata": {},
   "outputs": [
    {
     "name": "stderr",
     "output_type": "stream",
     "text": [
      "C:\\Users\\luism\\anaconda3\\envs\\gym\\lib\\site-packages\\gym\\spaces\\box.py:73: UserWarning: \u001b[33mWARN: Box bound precision lowered by casting to float32\u001b[0m\n",
      "  logger.warn(\n"
     ]
    },
    {
     "data": {
      "text/plain": [
       "0.9612433612765581"
      ]
     },
     "execution_count": 381,
     "metadata": {},
     "output_type": "execute_result"
    }
   ],
   "source": [
    "fid_fun2(np.array([-np.pi/2 + 5, -np.pi/2, -np.pi/2 ]),H )"
   ]
  },
  {
   "cell_type": "code",
   "execution_count": 394,
   "id": "6c7dbed4",
   "metadata": {},
   "outputs": [
    {
     "data": {
      "text/plain": [
       "0.9996745474921975"
      ]
     },
     "execution_count": 394,
     "metadata": {},
     "output_type": "execute_result"
    }
   ],
   "source": [
    "fid_fun2(np.array([-np.pi/2, -np.pi/2, -np.pi/2 ]) + 0.5*np.array([ 0.88756401, -0.37459831, -0.26815339]),H )"
   ]
  },
  {
   "cell_type": "markdown",
   "id": "683fa965",
   "metadata": {},
   "source": [
    "# 2D cluster-state"
   ]
  },
  {
   "cell_type": "code",
   "execution_count": 4,
   "id": "29d8003f",
   "metadata": {},
   "outputs": [],
   "source": [
    "import networkx as nx"
   ]
  },
  {
   "cell_type": "code",
   "execution_count": 5,
   "id": "7a6c35ec",
   "metadata": {},
   "outputs": [],
   "source": [
    "G = nx.Graph()\n",
    "G.add_nodes_from([1,2,3,4,5])\n",
    "G.add_edges_from([(1, 2), (2, 3), (3,4), (4,5)])"
   ]
  },
  {
   "cell_type": "code",
   "execution_count": 6,
   "id": "7e411c76",
   "metadata": {},
   "outputs": [],
   "source": [
    "Oc = list(G.nodes)\n",
    "Oc.remove(5)\n",
    "\n",
    "Ic = list(G.nodes)\n",
    "Ic.remove(1)\n",
    "\n",
    "def fMapy(i):\n",
    "    inp = [1,2,3,4]\n",
    "    outp = [2,3,4,5]\n",
    "    return outp[inp.index(i)]"
   ]
  },
  {
   "cell_type": "code",
   "execution_count": 7,
   "id": "ef3f83ca",
   "metadata": {
    "scrolled": true
   },
   "outputs": [],
   "source": [
    "#check if its a flow\n",
    "def check_flow(G, Oc, fMap):\n",
    "    for i in Oc:\n",
    "        s = True\n",
    "        \n",
    "        #first condition\n",
    "        if not (i, fMap(i)) in list(G.edges):\n",
    "            s = False\n",
    "            break\n",
    "        #second condition\n",
    "        if not fMap(i)>i:\n",
    "            s = False\n",
    "            break\n",
    "\n",
    "        #third condition\n",
    "        neig = list(G.neighbors(fMap(i)))\n",
    "        neig.remove(i)\n",
    "        for ne in neig:\n",
    "            if not ne>i:\n",
    "                s = False\n",
    "                break\n",
    "    return s"
   ]
  },
  {
   "cell_type": "code",
   "execution_count": 408,
   "id": "4d96293d",
   "metadata": {},
   "outputs": [],
   "source": [
    "class measurement_env_2d(gym.Env):\n",
    "    metadata = {'render.modes': ['human']}\n",
    "    \n",
    "    q_zero = np.array([[1],[0]])\n",
    "    H = np.array([[1,1],[1,-1]])/np.sqrt(2)\n",
    "    qubit_plus = H@q_zero\n",
    "    sx = np.array([[0,1],[1,0]])\n",
    "    sz = np.array([[1,0],[0,-1]])\n",
    "    \n",
    "    def __init__(self, n_qubits, width, graph, flow, unitary, noise=0, noise_type=\"random\" ,test_fidelity=False, init_state_random = True):\n",
    "        self.n_qubits = n_qubits\n",
    "        self.width = width\n",
    "        \n",
    "        \n",
    "        self.graph = graph\n",
    "        self.flow = flow\n",
    "        \n",
    "        self.unitary = unitary\n",
    "        self.noise = noise\n",
    "        self.noise_type = noise_type\n",
    "        self.test_fidelity = test_fidelity\n",
    "        self.init_state_random = init_state_random\n",
    "        \n",
    "        \n",
    "        self.action_space = spaces.Box(low = np.array([-1*(np.pi+0.1)]), high=np.array([1*(np.pi+0.1)]) )\n",
    "        self.observation_space = spaces.Box(low=-4*np.ones(self.n_qubits), high=1*(np.pi+0.1)*np.ones(self.n_qubits))\n",
    "        \n",
    "        \n",
    "        self.state = -4*np.ones(self.n_qubits)\n",
    "        self.total_measurements = self.n_qubits\n",
    "        self.measurements_left = self.n_qubits\n",
    "        \n",
    "        q_zeros = 1\n",
    "        for i in range(self.width):\n",
    "            q_zeros = np.kron(q_zeros, q_zero)\n",
    "        \n",
    "        if self.init_state_random:\n",
    "            st = unitary_group.rvs(2**self.width)@q_zeros\n",
    "        elif not self.init_state_random:\n",
    "            st = np.eye(2**self.width)@q_zeros\n",
    "        \n",
    "        if self.noise_type==\"random\":\n",
    "            noisyU = randomUnitary_closetoid(2**self.width,self.noise,20)\n",
    "            self.final_qstate_train = self.pure2density(noisyU@self.unitary@(np.conj(noisyU.T))@st)\n",
    "        elif self.noise_type==\"bitflip\":\n",
    "            errs = np.random.choice([0,1],p=[1-self.noise, self.noise])\n",
    "            if errs==0:\n",
    "                self.final_qstate_train = self.pure2density(self.unitary@st)\n",
    "            elif errs==1:\n",
    "                sxs = 1\n",
    "                for i in range(self.width):\n",
    "                    sxs = np.kron(sxs, sx)\n",
    "                self.final_qstate_train = self.pure2density(sxs@self.unitary@st)\n",
    "        elif self.noise_type==\"none\":\n",
    "            self.final_qstate_train = self.pure2density(self.unitary@st)    \n",
    "        \n",
    "        self.final_qstate_test = self.pure2density(self.unitary@st)\n",
    "        \n",
    "        subgr = self.graph.subgraph(list(range(self.width+1)))\n",
    "        \n",
    "        self.qstate = self.pure2density(self.graph_with_multiple_inputs2(subgr, inputstates=st, width=self.width))\n",
    "\n",
    "\n",
    "    def step(self, action):\n",
    "        current_measurement = self.total_measurements - self.measurements_left\n",
    "        self.state[current_measurement] = action[0]\n",
    "        self.measurements_left -= 1\n",
    "        self.qstate, outcome = self.measure_angle(self.qstate, action[0] ,0)\n",
    "        \n",
    "        if outcome == 1:\n",
    "            fi = self.flow(current_measurement)\n",
    "            self.qstate = self.arbitrary_qubit_gate(sx,fi-current_measurement,self.width+1)@self.qstate@np.conj(self.arbitrary_qubit_gate(sx,fi-current_measurement,self.width+1).T)\n",
    "            \n",
    "            for ne in self.graph.neighbors(fi):\n",
    "                if ne<fi and ne!=current_measurement:\n",
    "                    self.qstate = self.arbitrary_qubit_gate(sz,ne-current_measurement,self.width+1)@self.qstate@np.conj(self.arbitrary_qubit_gate(sz,ne-current_measurement,self.width+1).T)\n",
    "            \n",
    "        \n",
    "        self.qstate = self.partial_trace(self.qstate, [0])\n",
    "        if self.measurements_left!=0:\n",
    "            self.qstate = np.kron(self.qstate, self.pure2density(qubit_plus))\n",
    "            for ne in self.graph.neighbors(current_measurement+self.width+1):\n",
    "                if ne<current_measurement+self.width+1:\n",
    "                    cgate=self.controlled_z(self.width,ne-(current_measurement+1), self.width+1)\n",
    "                    self.qstate = cgate@self.qstate@np.conj(cgate.T)\n",
    "        \n",
    "        \n",
    "        reward = 0 #fidelity\n",
    "        \n",
    "        if self.measurements_left == 0:\n",
    "            if not self.test_fidelity:\n",
    "                reward = self.fidelity(self.final_qstate_train, self.qstate)\n",
    "            elif self.test_fidelity:\n",
    "                reward = self.fidelity(self.final_qstate_test, self.qstate)\n",
    "            done = True\n",
    "        else:\n",
    "            done = False\n",
    "        \n",
    "        info = {}\n",
    "\n",
    "        return self.state, reward, done, info\n",
    "        \n",
    "        \n",
    "    def reset(self):\n",
    "        \n",
    "        self.state = -4*np.ones(self.n_qubits)\n",
    "        self.total_measurements = self.n_qubits\n",
    "        self.measurements_left = self.n_qubits\n",
    "        \n",
    "        q_zeros = 1\n",
    "        for i in range(self.width):\n",
    "            q_zeros = np.kron(q_zeros, q_zero)\n",
    "        \n",
    "        if self.init_state_random:\n",
    "            st = unitary_group.rvs(2**self.width)@q_zeros\n",
    "        elif not self.init_state_random:\n",
    "            st = np.eye(2**self.width)@q_zeros\n",
    "        \n",
    "        if self.noise_type==\"random\":\n",
    "            noisyU = randomUnitary_closetoid(2**self.width,self.noise,20)\n",
    "            self.final_qstate_train = self.pure2density(noisyU@self.unitary@(np.conj(noisyU.T))@st)\n",
    "        elif self.noise_type==\"bitflip\":\n",
    "            errs = np.random.choice([0,1],p=[1-self.noise, self.noise])\n",
    "            if errs==0:\n",
    "                self.final_qstate_train = self.pure2density(self.unitary@st)\n",
    "            elif errs==1:\n",
    "                sxs = 1\n",
    "                for i in range(self.width):\n",
    "                    sxs = np.kron(sxs, sx)\n",
    "                self.final_qstate_train = self.pure2density(sxs@self.unitary@st)\n",
    "        elif self.noise_type==\"none\":\n",
    "            self.final_qstate_train = self.pure2density(self.unitary@st)\n",
    "            \n",
    "        self.final_qstate_test = self.pure2density(self.unitary@st)\n",
    "        \n",
    "        subgr = self.graph.subgraph(list(range(self.width+1)))\n",
    "        self.qstate = self.pure2density(self.graph_with_multiple_inputs2(subgr, inputstates=st, width=self.width))\n",
    "        return self.state\n",
    "        \n",
    "    def render(self, mode='human', close=False):\n",
    "        pass\n",
    "\n",
    "    def controlled_z(self, i, j , n):\n",
    "        op1, op2 = 1, 2\n",
    "        for k in range(0,n):\n",
    "            op1 = np.kron(op1, np.eye(2))\n",
    "            if k in [i,j]:\n",
    "                op2 = np.kron(op2, np.kron(np.conjugate(np.array([[0],[1]]).T), np.array([[0],[1]])))\n",
    "            else:\n",
    "                op2 = np.kron(op2, np.eye(2))\n",
    "        return op1-op2\n",
    "\n",
    "    def fidelity(self, sigma, rho):\n",
    "        srho = linalg.sqrtm(rho)\n",
    "        prod = srho@sigma@srho\n",
    "        sprod = linalg.sqrtm(prod)\n",
    "        return np.abs(np.trace(sprod))\n",
    "\n",
    "    def pure2density(self, psi):\n",
    "        return np.kron(psi, np.conjugate(psi.T))\n",
    "\n",
    "    def measure_angle(self, rho, angle, i):\n",
    "        n = self.width+1\n",
    "        pi0 = 1\n",
    "        pi1 = 1\n",
    "        pi0op = np.array([[1, np.exp(-angle*1j)],[np.exp(angle*1j), 1]])/2\n",
    "        pi1op = np.array([[1,-np.exp(-angle*1j)],[-np.exp(angle*1j), 1]])/2\n",
    "        for k in range(0,n):\n",
    "            if k == i:\n",
    "                pi0 = np.kron(pi0, pi0op)\n",
    "                pi1 = np.kron(pi1, pi1op)\n",
    "            else:\n",
    "                pi0 = np.kron(pi0, np.eye(2))\n",
    "                pi1 = np.kron(pi1, np.eye(2))\n",
    "        prob0, prob1 = np.real(np.trace(rho@pi0)), np.real(np.trace(rho@pi1))\n",
    "        measurement = np.random.choice([0,1], p=[prob0,prob1]/(prob0+prob1))\n",
    "        \n",
    "        if measurement==0:\n",
    "            rho = pi0@rho@pi0/prob0\n",
    "        elif measurement==1:\n",
    "            rho = pi1@rho@pi1/prob1\n",
    "            \n",
    "        return rho, measurement\n",
    "\n",
    "   \n",
    "    def partial_trace(self, rho, indices):\n",
    "        x,y = rho.shape\n",
    "        n = int(math.log(x,2))\n",
    "        r = len(indices)\n",
    "        sigma = np.zeros((int(x/(2**r)), int(y/(2**r))))\n",
    "        for m in range(0, 2**r):\n",
    "            qubits = format(m,'0'+f'{r}'+'b')\n",
    "            ptrace = 1\n",
    "            for k in range(0,n):\n",
    "                if k in indices:\n",
    "                    idx = indices.index(k)\n",
    "                    if qubits[idx]=='0':\n",
    "                        ptrace = np.kron(ptrace, np.array([[1],[0]]))\n",
    "                    elif qubits[idx]=='1':\n",
    "                        ptrace = np.kron(ptrace, np.array([[0],[1]]))\n",
    "                else:\n",
    "                    ptrace = np.kron(ptrace, np.eye(2))\n",
    "            sigma = sigma + np.conjugate(ptrace.T)@rho@(ptrace)\n",
    "        return sigma\n",
    "\n",
    "\n",
    "    def graph_state(self, G):\n",
    "        n = G.number_of_nodes()\n",
    "        psi = 1\n",
    "        for i in range(n):\n",
    "            psi = np.kron(psi, qubit_plus)\n",
    "        for j in list(G.edges()):\n",
    "            psi = self.controlled_z(j[0],j[1], n)@psi\n",
    "        return psi\n",
    "\n",
    "    def graph_with_multiple_inputs(self, G, inputs=[], indices=[]):\n",
    "        n = G.number_of_nodes()\n",
    "        psi = 1\n",
    "        if len(inputs)==0:\n",
    "            psi = self.graph_state(G)\n",
    "        else:\n",
    "            for i in range(n):\n",
    "                if (indx, j) in enumerate(indices):\n",
    "                    psi = np.kron(psi, inputs[indx])\n",
    "                else:\n",
    "                    psi = qubit_plus\n",
    "\n",
    "        for j in list(G.edges()):\n",
    "            psi = self.controlled_z(j[0],j[1], n)@psi\n",
    "\n",
    "        return psi \n",
    "                                    \n",
    "                                    \n",
    "    def graph_with_multiple_inputs2(self, G, inputstates=1, width=0):\n",
    "        n = G.number_of_nodes()\n",
    "        psi = 1\n",
    "        if self.width==0:\n",
    "            psi = self.graph_state(G)\n",
    "        else:\n",
    "            psi = np.kron(psi, inputstates)\n",
    "            psi = np.kron(psi, qubit_plus)\n",
    "\n",
    "        for j in list(G.edges()):\n",
    "            psi = self.controlled_z(j[0],j[1], n)@psi\n",
    "\n",
    "        return psi \n",
    "                                \n",
    "\n",
    "    def cz_after_layer_measurement(self,rho, n):\n",
    "        if n>1:\n",
    "            for i in range(n-1):\n",
    "                controll = self.controlled_z(i, i+1, n)\n",
    "                rho = controll*rho*(np.conj(controll.T))\n",
    "        return rho\n",
    "\n",
    "    def swap_ij(self,i,j,n):\n",
    "        op1,op2,op3,op4 = np.ones(4)\n",
    "        for k in range(n):\n",
    "            if k==i or k==j:\n",
    "                op1 = np.kron(op1,np.kron(np.array([1,0]).T, np.array([1,0])))\n",
    "                op4 = np.kron(op4,np.kron(np.array([0,1]).T, np.array([0,1])))\n",
    "            else:\n",
    "                op1 = np.kron(op1, np.eye(2))\n",
    "                op4 = np.kron(op4, np.eye(2))\n",
    "\n",
    "            if k == i:\n",
    "                op2 = np.kron(op2,np.kron(np.array([1,0]).T, np.array([0,1])))\n",
    "                op3 = np.kron(op3,np.kron(np.array([0,1]).T, np.array([1,0])))\n",
    "            elif k==j:\n",
    "                op2 = np.kron(op2,np.kron(np.array([0,1]).T, np.array([1,0])))\n",
    "                op3 = np.kron(op3,np.kron(np.array([1,0]).T, np.array([0,1])))\n",
    "            else:\n",
    "                op2 = np.kron(op2, np.eye(2))\n",
    "                op3 = np.kron(op3, np.eye(2))\n",
    "        return op1+op2+op3+op4\n",
    "\n",
    "    def arbitrary_qubit_gate(self,u,i,n):\n",
    "        op = 1\n",
    "        for k in range(n):\n",
    "            if k==i:\n",
    "                op = np.kron(op, u)\n",
    "            else:\n",
    "                op = np.kron(op, np.eye(2))\n",
    "        return op\n",
    "\n",
    "    def cnot_ij(self,i,j,n):\n",
    "        op1,op2,op3,op4 = np.ones(4)\n",
    "        for k in range(1,n+1):\n",
    "            if k==i or k==j:\n",
    "                op1 = np.kron(op1,np.kron(np.array([[1],[0]]).T, np.array([[1],[0]])))\n",
    "            else:\n",
    "                op1 = np.kron(op1, np.eye(2))        \n",
    "            if k == i:\n",
    "                op2 = np.kron(op2,np.kron(np.array([[1],[0]]).T, np.array([[1],[0]])))\n",
    "                op3 = np.kron(op3,np.kron(np.array([[0],[1]]).T, np.array([[0],[1]])))\n",
    "                op4 = np.kron(op4,np.kron(np.array([[0],[1]]).T, np.array([[0],[1]])))\n",
    "            elif k==j:\n",
    "                op2 = np.kron(op2,np.kron(np.array([[0],[1]]).T, np.array([[0],[1]])))\n",
    "                op3 = np.kron(op3,np.kron(np.array([[1],[0]]).T, np.array([[0],[1]])))\n",
    "                op4 = np.kron(op4,np.kron(np.array([[0],[1]]).T, np.array([[1],[0]])))\n",
    "            else:\n",
    "                op2 = np.kron(op2, np.eye(2))\n",
    "                op3 = np.kron(op3, np.eye(2))\n",
    "                op4 = np.kron(op4, np.eye(2))\n",
    "\n",
    "        return op1+op2+op3+op4"
   ]
  },
  {
   "cell_type": "markdown",
   "id": "1af547eb",
   "metadata": {},
   "source": [
    "# Single Qubit Gates"
   ]
  },
  {
   "cell_type": "code",
   "execution_count": 409,
   "id": "84c8b97e",
   "metadata": {},
   "outputs": [],
   "source": [
    "gr = nx.Graph()\n",
    "gr.add_nodes_from(list(range(5)))\n",
    "gr.add_edges_from([(0, 1),(1,2),(2,3),(3,4)])"
   ]
  },
  {
   "cell_type": "code",
   "execution_count": 410,
   "id": "2a6abdd8",
   "metadata": {},
   "outputs": [],
   "source": [
    "uu = unitary_group.rvs(2)\n",
    "idk = measurement_env_2d(4, 1, gr, lambda x: x+1, uu, noise=0, noise_type=\"none\" ,test_fidelity=False, init_state_random = True)"
   ]
  },
  {
   "cell_type": "code",
   "execution_count": 411,
   "id": "56b463f0",
   "metadata": {},
   "outputs": [],
   "source": [
    "env = measurement_env_2d(4, 1, gr, lambda x: x+1, uu, noise=0, noise_type=\"none\" ,test_fidelity=False, init_state_random = True)\n",
    "\n",
    "log_dir = \"./logs/\"\n",
    "os.makedirs(log_dir, exist_ok=True)\n",
    "env = Monitor(env, log_dir)\n",
    "\n",
    "checkpoint_on_event = CheckpointCallback(save_freq=1, save_path='./logs/')\n",
    "event_callback = EveryNTimesteps(n_steps=1000, callback=checkpoint_on_event)"
   ]
  },
  {
   "cell_type": "code",
   "execution_count": 412,
   "id": "8e440e4c",
   "metadata": {},
   "outputs": [],
   "source": [
    "model = PPO(\"MlpPolicy\", env, verbose=0);\n",
    "model.learn(total_timesteps=int(1e5), callback=event_callback);"
   ]
  },
  {
   "cell_type": "code",
   "execution_count": 413,
   "id": "12b51aa3",
   "metadata": {},
   "outputs": [
    {
     "data": {
      "image/png": "[encoded data removed]",
      "text/plain": [
       "<Figure size 432x288 with 1 Axes>"
      ]
     },
     "metadata": {
      "needs_background": "light"
     },
     "output_type": "display_data"
    }
   ],
   "source": [
    "plot_results(log_dir, title=\"U\",window=100)"
   ]
  },
  {
   "cell_type": "code",
   "execution_count": 414,
   "id": "58d13656",
   "metadata": {},
   "outputs": [
    {
     "name": "stdout",
     "output_type": "stream",
     "text": [
      "[1.7181401]\n",
      "[1.8795447]\n",
      "[-0.12459233]\n",
      "[0.95589113]\n",
      "donee, score:  0.9999885060146154\n"
     ]
    }
   ],
   "source": [
    "lisact = []\n",
    "for i in range(1):\n",
    "    obs = env.reset()\n",
    "    done = False\n",
    "    while not done:\n",
    "        action, states = model.predict(obs, deterministic=True)\n",
    "        obs, reward, done, info = env.step(action)\n",
    "        print(action)\n",
    "        lisact.append(action[0])\n",
    "        if done:\n",
    "            print(\"donee, score: \", reward)\n",
    "env.close()"
   ]
  },
  {
   "cell_type": "markdown",
   "id": "5e294a1b",
   "metadata": {},
   "source": [
    "## CNOT"
   ]
  },
  {
   "cell_type": "code",
   "execution_count": 415,
   "id": "4681fa95",
   "metadata": {},
   "outputs": [],
   "source": [
    "def cnot_ij(i,j,n):\n",
    "    op1,op2,op3,op4 = np.ones(4)\n",
    "    for k in range(1,n+1):\n",
    "        if k==i or k==j:\n",
    "            op1 = np.kron(op1,np.kron(np.array([[1],[0]]).T, np.array([[1],[0]])))\n",
    "        else:\n",
    "            op1 = np.kron(op1, np.eye(2))        \n",
    "        if k == i:\n",
    "            op2 = np.kron(op2,np.kron(np.array([[1],[0]]).T, np.array([[1],[0]])))\n",
    "            op3 = np.kron(op3,np.kron(np.array([[0],[1]]).T, np.array([[0],[1]])))\n",
    "            op4 = np.kron(op4,np.kron(np.array([[0],[1]]).T, np.array([[0],[1]])))\n",
    "        elif k==j:\n",
    "            op2 = np.kron(op2,np.kron(np.array([[0],[1]]).T, np.array([[0],[1]])))\n",
    "            op3 = np.kron(op3,np.kron(np.array([[1],[0]]).T, np.array([[0],[1]])))\n",
    "            op4 = np.kron(op4,np.kron(np.array([[0],[1]]).T, np.array([[1],[0]])))\n",
    "        else:\n",
    "            op2 = np.kron(op2, np.eye(2))\n",
    "            op3 = np.kron(op3, np.eye(2))\n",
    "            op4 = np.kron(op4, np.eye(2))\n",
    "\n",
    "    return op1+op2+op3+op4\n",
    "\n",
    "OPI = cnot_ij(1,2,2)"
   ]
  },
  {
   "cell_type": "code",
   "execution_count": 416,
   "id": "2a4f53f9",
   "metadata": {},
   "outputs": [],
   "source": [
    "gr = nx.Graph()\n",
    "gr.add_nodes_from(list(range(14)))\n",
    "gr.add_edges_from([(0, 2), (2, 4), (4,6), (6,8),(8,10), (10,12), (6,7), \n",
    "                 (1,3),(3,5),(5,7),(7,9),(9,11),(11,13)])"
   ]
  },
  {
   "cell_type": "code",
   "execution_count": 417,
   "id": "b0b3860b",
   "metadata": {},
   "outputs": [],
   "source": [
    "# 1 qubit gate\n",
    "# gr = nx.Graph()\n",
    "# gr.add_nodes_from(list(range(5)))\n",
    "# gr.add_edges_from([(0, 1),(1,2) ,(2, 3), (3,4)])"
   ]
  },
  {
   "cell_type": "code",
   "execution_count": 418,
   "id": "8a0a39e2",
   "metadata": {},
   "outputs": [
    {
     "name": "stderr",
     "output_type": "stream",
     "text": [
      "C:\\Users\\luism\\anaconda3\\envs\\gym\\lib\\site-packages\\gym\\spaces\\box.py:73: UserWarning: \u001b[33mWARN: Box bound precision lowered by casting to float32\u001b[0m\n",
      "  logger.warn(\n"
     ]
    }
   ],
   "source": [
    "idk = measurement_env_2d(12, 2, gr, lambda x: x+2, OPI, noise=0, noise_type=\"none\" ,test_fidelity=False, init_state_random = True)\n",
    "#idk = measurement_env_2d(4, 1, gr, lambda x: x+1, H, noise=0, noise_type=\"none\" ,test_fidelity=False, init_state_random = True)"
   ]
  },
  {
   "cell_type": "code",
   "execution_count": 419,
   "id": "1f2a5c04",
   "metadata": {},
   "outputs": [
    {
     "data": {
      "text/plain": [
       "(array([-3.1154835e-01,  4.2917760e-02, -1.4931296e+00, -5.9446853e-01,\n",
       "        -1.5295134e+00,  1.1985300e-03,  3.3918840e-01,  1.0740659e+00,\n",
       "         1.5503267e+00, -4.9729480e-02,  1.5497913e+00, -5.7669646e-01]),\n",
       " 0.9975490862350175,\n",
       " True,\n",
       " {})"
      ]
     },
     "execution_count": 419,
     "metadata": {},
     "output_type": "execute_result"
    }
   ],
   "source": [
    "# rews = []\n",
    "# for i in range(100):\n",
    "idk.reset()\n",
    "idk.step([-0.31154835])\n",
    "idk.step([0.04291776])\n",
    "idk.step([-1.4931296])\n",
    "idk.step([-0.59446853])\n",
    "idk.step([-1.5295134])\n",
    "idk.step([0.00119853])\n",
    "idk.step([0.3391884])\n",
    "idk.step([1.0740659])\n",
    "idk.step([1.5503267])\n",
    "idk.step([-0.04972948])\n",
    "idk.step([1.5497913])\n",
    "idk.step([-0.57669646])\n",
    "#     rews +=[ll]\n",
    "# plt.plot(rews)"
   ]
  },
  {
   "cell_type": "code",
   "execution_count": 420,
   "id": "b1531de9",
   "metadata": {},
   "outputs": [],
   "source": [
    "env = measurement_env_2d(12, 2, gr, lambda x: x+2, OPI, noise=0, noise_type=\"none\" ,test_fidelity=False, init_state_random = True)\n",
    "\n",
    "log_dir = \"./logs/\"\n",
    "os.makedirs(log_dir, exist_ok=True)\n",
    "env = Monitor(env, log_dir)\n",
    "\n",
    "checkpoint_on_event = CheckpointCallback(save_freq=1, save_path='./logs/')\n",
    "event_callback = EveryNTimesteps(n_steps=1000, callback=checkpoint_on_event)"
   ]
  },
  {
   "cell_type": "code",
   "execution_count": 421,
   "id": "4c3fb368",
   "metadata": {
    "scrolled": true
   },
   "outputs": [
    {
     "data": {
      "text/plain": [
       "<stable_baselines3.ppo.ppo.PPO at 0x211f0b27f10>"
      ]
     },
     "execution_count": 421,
     "metadata": {},
     "output_type": "execute_result"
    }
   ],
   "source": [
    "model = PPO(\"MlpPolicy\", env, verbose=0)\n",
    "model.learn(total_timesteps=int(1e5), callback=event_callback)"
   ]
  },
  {
   "cell_type": "code",
   "execution_count": 422,
   "id": "8f65f439",
   "metadata": {},
   "outputs": [
    {
     "data": {
      "image/png": "[encoded data removed]",
      "text/plain": [
       "<Figure size 432x288 with 1 Axes>"
      ]
     },
     "metadata": {
      "needs_background": "light"
     },
     "output_type": "display_data"
    }
   ],
   "source": [
    "plot_results(log_dir, title=\"CNOT\",window=100)"
   ]
  },
  {
   "cell_type": "code",
   "execution_count": 29,
   "id": "252c5c70",
   "metadata": {},
   "outputs": [
    {
     "data": {
      "text/plain": [
       "<stable_baselines3.ppo.ppo.PPO at 0x211ea3338e0>"
      ]
     },
     "execution_count": 29,
     "metadata": {},
     "output_type": "execute_result"
    }
   ],
   "source": [
    "#model.save('./tmp/cnot')\n",
    "model.load('./tmp/cnot')"
   ]
  },
  {
   "cell_type": "code",
   "execution_count": 33,
   "id": "00ab9dd9",
   "metadata": {},
   "outputs": [
    {
     "name": "stdout",
     "output_type": "stream",
     "text": [
      "[-0.31154835]\n",
      "[0.04291776]\n",
      "[-1.4931296]\n",
      "[-0.59446853]\n",
      "[-1.5295134]\n",
      "[0.00119853]\n",
      "[0.3391884]\n",
      "[1.0740659]\n",
      "[1.5503267]\n",
      "[-0.04972948]\n",
      "[1.5497913]\n",
      "[-0.57669646]\n",
      "donee, score:  0.996998159017613\n"
     ]
    },
    {
     "name": "stderr",
     "output_type": "stream",
     "text": [
      "C:\\Users\\luism\\anaconda3\\envs\\gym\\lib\\site-packages\\gym\\spaces\\box.py:73: UserWarning: \u001b[33mWARN: Box bound precision lowered by casting to float32\u001b[0m\n",
      "  logger.warn(\n"
     ]
    }
   ],
   "source": [
    "env = measurement_env_2d(12, 2, gr, lambda x: x+2, OPI, noise=0, noise_type=\"none\" ,test_fidelity=False, init_state_random = True)\n",
    "lisact = []\n",
    "for i in range(1):\n",
    "    obs = env.reset()\n",
    "    done = False\n",
    "    while not done:\n",
    "        action, states = model.predict(obs, deterministic=True)\n",
    "        obs, reward, done, info = env.step(action)\n",
    "        print(action)\n",
    "        lisact.append(action[0])\n",
    "        if done:\n",
    "            print(\"donee, score: \", reward)\n",
    "env.close()"
   ]
  },
  {
   "cell_type": "code",
   "execution_count": 34,
   "id": "3866557f",
   "metadata": {},
   "outputs": [
    {
     "data": {
      "text/plain": [
       "(-1.209360915241305,\n",
       " 1.2032743937299237,\n",
       " -1.132118152205133,\n",
       " 1.1192576144559667)"
      ]
     },
     "execution_count": 34,
     "metadata": {},
     "output_type": "execute_result"
    },
    {
     "data": {
      "image/png": "[encoded data removed]",
      "text/plain": [
       "<Figure size 1080x1080 with 1 Axes>"
      ]
     },
     "metadata": {},
     "output_type": "display_data"
    }
   ],
   "source": [
    "fig = plt.figure(1, figsize=(15, 15))\n",
    "xpp = nx.spring_layout(gr)\n",
    "nx.draw_networkx_nodes(gr, pos=xpp)\n",
    "nx.draw_networkx_edges(gr, xpp, width=1.0, alpha=0.5)\n",
    "labels = {}\n",
    "for i in range(1,13):\n",
    "    labels[i] = lisact[i-1]\n",
    "nx.draw_networkx_labels(gr, xpp, labels, font_size=22)\n",
    "plt.axis('off')"
   ]
  },
  {
   "cell_type": "code",
   "execution_count": 82,
   "id": "461c692f",
   "metadata": {},
   "outputs": [
    {
     "data": {
      "text/plain": [
       "(array([0.        , 0.        , 1.57079633, 0.        , 1.57079633,\n",
       "        0.        , 1.57079633, 1.57079633, 1.57079633, 0.        ,\n",
       "        1.57079633, 0.        ]),\n",
       " 0.6960294935604403,\n",
       " True,\n",
       " {})"
      ]
     },
     "execution_count": 82,
     "metadata": {},
     "output_type": "execute_result"
    }
   ],
   "source": [
    "idk.reset()\n",
    "idk.step([0])\n",
    "idk.step([0])\n",
    "idk.step([np.pi/2])\n",
    "idk.step([0])\n",
    "idk.step([np.pi/2])\n",
    "idk.step([0])\n",
    "idk.step([np.pi/2])\n",
    "idk.step([np.pi/2])\n",
    "idk.step([np.pi/2])\n",
    "idk.step([0])\n",
    "idk.step([np.pi/2])\n",
    "idk.step([0])"
   ]
  },
  {
   "cell_type": "code",
   "execution_count": null,
   "id": "0f261747",
   "metadata": {},
   "outputs": [],
   "source": []
  },
  {
   "cell_type": "code",
   "execution_count": null,
   "id": "e2d12221",
   "metadata": {},
   "outputs": [],
   "source": []
  },
  {
   "cell_type": "code",
   "execution_count": null,
   "id": "8da47f56",
   "metadata": {},
   "outputs": [],
   "source": []
  },
  {
   "cell_type": "code",
   "execution_count": null,
   "id": "46608c04",
   "metadata": {},
   "outputs": [],
   "source": []
  },
  {
   "cell_type": "code",
   "execution_count": 171,
   "id": "770eaf63",
   "metadata": {},
   "outputs": [],
   "source": [
    "gr = nx.Graph()\n",
    "gr.add_nodes_from(list(range(14)))\n",
    "gr.add_edges_from([(0, 1), (1, 2), (2,3), (3,4),(4,5),\n",
    "                   (6,1), (6,5),(6,7),(7,12), (5,8),(8,9),(9,10),(10,11),(11,13) ])"
   ]
  },
  {
   "cell_type": "code",
   "execution_count": 176,
   "id": "368af546",
   "metadata": {},
   "outputs": [],
   "source": [
    "def fun11(i):\n",
    "    outt = 0\n",
    "    if i in [0,1,2,3,4,6,8,9,10]:\n",
    "        outt = i+1\n",
    "    if i==7:\n",
    "        outt=12\n",
    "    if i==5:\n",
    "        outt=8\n",
    "    if i==11:\n",
    "        outt=13\n",
    "    return outt"
   ]
  },
  {
   "cell_type": "code",
   "execution_count": 177,
   "id": "8a0cf950",
   "metadata": {},
   "outputs": [
    {
     "name": "stderr",
     "output_type": "stream",
     "text": [
      "C:\\Users\\luism\\anaconda3\\envs\\gym\\lib\\site-packages\\gym\\spaces\\box.py:73: UserWarning: \u001b[33mWARN: Box bound precision lowered by casting to float32\u001b[0m\n",
      "  logger.warn(\n"
     ]
    }
   ],
   "source": [
    "env2 = measurement_env_2d(12, 2, gr, fun11, OPI, noise=0, noise_type=\"none\" ,test_fidelity=False, init_state_random = True)\n",
    "\n",
    "log_dir2 = \"./logs2/\"\n",
    "os.makedirs(log_dir2, exist_ok=True)\n",
    "env2 = Monitor(env2, log_dir2)\n",
    "\n",
    "checkpoint_on_event = CheckpointCallback(save_freq=1, save_path='./logs/')\n",
    "event_callback = EveryNTimesteps(n_steps=1000, callback=checkpoint_on_event)"
   ]
  },
  {
   "cell_type": "code",
   "execution_count": 178,
   "id": "28dfc41f",
   "metadata": {},
   "outputs": [
    {
     "data": {
      "text/plain": [
       "<stable_baselines3.ppo.ppo.PPO at 0x20098ce7a90>"
      ]
     },
     "execution_count": 178,
     "metadata": {},
     "output_type": "execute_result"
    }
   ],
   "source": [
    "model2 = PPO(\"MlpPolicy\", env2, verbose=0)\n",
    "model2.learn(total_timesteps=int(5e5), callback=event_callback)"
   ]
  },
  {
   "cell_type": "code",
   "execution_count": 179,
   "id": "36fab923",
   "metadata": {},
   "outputs": [
    {
     "data": {
      "image/png": "[encoded data removed]",
      "text/plain": [
       "<Figure size 432x288 with 1 Axes>"
      ]
     },
     "metadata": {
      "needs_background": "light"
     },
     "output_type": "display_data"
    }
   ],
   "source": [
    "plot_results(log_dir2, title=\"CNOT\",window=50)"
   ]
  },
  {
   "cell_type": "code",
   "execution_count": null,
   "id": "a323c192",
   "metadata": {},
   "outputs": [],
   "source": [
    "env2 = measurement_env_2d(12, 2, gr, lambda x: x+1, OPI, noise=0, noise_type=\"none\" ,test_fidelity=False, init_state_random = True)\n",
    "lisact = []\n",
    "for i in range(1):\n",
    "    obs = env.reset()\n",
    "    done = False\n",
    "    while not done:\n",
    "        action, states = model.predict(obs, deterministic=True)\n",
    "        obs, reward, done, info = env.step(action)\n",
    "        print(action)\n",
    "        lisact.append(action[0])\n",
    "        if done:\n",
    "            print(\"donee, score: \", reward)\n",
    "env.close()"
   ]
  }
 ],
 "metadata": {
  "kernelspec": {
   "display_name": "Python 3",
   "language": "python",
   "name": "python3"
  },
  "language_info": {
   "codemirror_mode": {
    "name": "ipython",
    "version": 3
   },
   "file_extension": ".py",
   "mimetype": "text/x-python",
   "name": "python",
   "nbconvert_exporter": "python",
   "pygments_lexer": "ipython3",
   "version": "3.8.8"
  }
 },
 "nbformat": 4,
 "nbformat_minor": 5
}
